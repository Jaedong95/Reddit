{
 "cells": [
  {
   "cell_type": "markdown",
   "id": "6677fb47",
   "metadata": {},
   "source": [
    "### 1. Default Setting"
   ]
  },
  {
   "cell_type": "code",
   "execution_count": 1,
   "id": "7ff2324d",
   "metadata": {},
   "outputs": [],
   "source": [
    "import json\n",
    "import os \n",
    "import pandas as pd \n",
    "import nltk\n",
    "import re\n",
    "import numpy as np\n",
    "import matplotlib.pyplot as plt \n",
    "import fasttext\n",
    "from nltk.tokenize import word_tokenize\n",
    "from pprint import pprint"
   ]
  },
  {
   "cell_type": "code",
   "execution_count": 2,
   "id": "91c7ed98",
   "metadata": {},
   "outputs": [],
   "source": [
    "default_path = '/home/lamda_00/Data-related'\n",
    "subreddit = 'Depression'\n",
    "# subreddit_id = 't5_2qqqf'   # depression\n",
    "data_path = os.path.join(default_path, 'data', 'Reddit_origin')\n",
    "save_path = os.path.join(default_path, 'data', 'Reddit_processed')\n",
    "model_path = os.path.join(default_path, 'model')"
   ]
  },
  {
   "cell_type": "code",
   "execution_count": 3,
   "id": "8bfee4c3",
   "metadata": {},
   "outputs": [],
   "source": [
    "# rs_file = 'dep_rs_2016.csv'\n",
    "rc_file = 'dep_rc_2017.csv'\n",
    "# rs_file2 = 'drs_2016.csv'\n",
    "rc_file2 = 'rc_2017.csv'"
   ]
  },
  {
   "cell_type": "raw",
   "id": "1975987c",
   "metadata": {},
   "source": [
    "rs_file2 = 'rs_nonper_2016.csv'\n",
    "rc_file2 = 'rc_nonper_2016.csv'"
   ]
  },
  {
   "cell_type": "code",
   "execution_count": null,
   "id": "f459449b",
   "metadata": {},
   "outputs": [],
   "source": [
    "reddit = [file for file in self.file_list if file.startswith(reddit_type) and year in file]\n",
    "print(reddit)\n",
    "for month in reddit: \n",
    "    reddit_file = open(os.path.join(self.data_path, month), 'r')\n",
    "    reddit_data = reddit_file.readlines()\n",
    "\n",
    "    print(f'{month}월, 데이터 개수: {len(reddit_data)}')\n",
    "    for reddit_content in reddit_data:\n",
    "        try:\n",
    "            reddit_json = json.loads(reddit_content)\n",
    "            # 간혹 json file의 key 값에 reddit, reddit_id가 없는 경우 존재 (외부 게시글)\n",
    "            if reddit_type.lower() == 'rs':\n",
    "                assert reddit_json['subreddit'], reddit_json['selftext']\n",
    "            elif reddit_type.lower() == 'rc':\n",
    "                assert reddit_json['subreddit'], reddit_json['comment']\n",
    "        except:\n",
    "            error_list.append(reddit_content)\n",
    "            continue "
   ]
  },
  {
   "cell_type": "markdown",
   "id": "4834ab84",
   "metadata": {},
   "source": [
    "### 2. Define Class"
   ]
  },
  {
   "cell_type": "code",
   "execution_count": 4,
   "id": "1885ba45",
   "metadata": {},
   "outputs": [],
   "source": [
    "class RedditData():\n",
    "    def __init__(self, subreddit, data_path, save_path):\n",
    "        self.subreddit = subreddit\n",
    "        self.data_path = data_path\n",
    "        self.save_path = save_path\n",
    "        self.file_list = os.listdir(self.data_path)\n",
    "        self.rs_dtype = {'id': str, 'subreddit': str, 'author': str, 'title': str, 'context': str, 'url': str}\n",
    "        self.rc_dtype = {'id': str, 'subreddit': str, 'author': str, 'comment': str}\n",
    "        \n",
    "    def check_condition(self, json_file, reddit_type):\n",
    "        '''\n",
    "        json_file에서 추출하고 싶은 조건 작성하는 함수\n",
    "        조건 만족 시 True 반환 (reddit_type: rs or rc)\n",
    "        '''\n",
    "        assert reddit_type in ['rs','rc','RS','RC']\n",
    "        if reddit_type.lower() == 'rs':\n",
    "            if json_file['subreddit'] == self.subreddit and (json_file['selftext'] != '[deleted]' and 'http' not in \\\n",
    "                json_file['selftext'] and json_file['selftext'] != '' and 'cross post' not in json_file['title']):\n",
    "                return True \n",
    "            return False\n",
    "        \n",
    "        elif reddit_type.lower() == 'rc':\n",
    "            if json_file['subreddit'] == self.subreddit and json_file['comment'] != '[deleted]':\n",
    "                return True \n",
    "            return False \n",
    "            \n",
    "    def extract_info(self, year, reddit_type):\n",
    "        assert reddit_type in ['rs','rc','RS','RC']\n",
    "        \n",
    "        reddit_info = []\n",
    "        error_list = []\n",
    "        \n",
    "        reddit = [file for file in self.file_list if file.startswith(reddit_type) and year in file]\n",
    "        print(reddit)\n",
    "        for month in reddit: \n",
    "            reddit_file = open(os.path.join(self.data_path, month), 'r')\n",
    "            reddit_data = reddit_file.readlines()\n",
    "            \n",
    "            print(f'{month}월, 데이터 개수: {len(reddit_data)}')\n",
    "            for reddit_content in reddit_data:\n",
    "                try:\n",
    "                    reddit_json = json.loads(reddit_content)\n",
    "                    # 간혹 json file의 key 값에 reddit, reddit_id가 없는 경우 존재 (외부 게시글)\n",
    "                    if reddit_type.lower() == 'rs':\n",
    "                        assert reddit_json['subreddit'], reddit_json['selftext']\n",
    "                    elif reddit_type.lower() == 'rc':\n",
    "                        assert reddit_json['subreddit'], reddit_json['comment']\n",
    "                except:\n",
    "                    error_list.append(reddit_content)\n",
    "                    continue \n",
    "                    \n",
    "                if self.check_condition(reddit_json, reddit_type):\n",
    "                    reddit_info.append(reddit_json)\n",
    "        \n",
    "        print(reddit_info)\n",
    "        print(f'{len(error_list)}개의 파일 로드에 실패하였습니다.')\n",
    "        return reddit_info, error_list\n",
    "        \n",
    "    def convert_to_df(self, reddit_info, reddit_type):\n",
    "        reddit_df = []\n",
    "        columns = []\n",
    "        errs = []\n",
    "        for info in reddit_info:\n",
    "            if reddit_type == 'RS':\n",
    "                columns = ['id', 'subreddit', 'author', 'title', 'context', 'comments', 'score', 'url', 'created_utc']\n",
    "                try:\n",
    "                    reddit_df.append([str(info['id']), self.subreddit, info['author'], info['title'], info['selftext'], \\\n",
    "                                      info['num_comments'], info['score'], info['url'], info['created_utc']])\n",
    "                except:\n",
    "                    errs.append(info)\n",
    "                    continue\n",
    "                \n",
    "            elif reddit_type == 'RC':   # 2016년도에는 comment -> body로 변경됨, downs 없어짐 \n",
    "                columns = ['id', 'subreddit', 'author', 'body', 'ups', 'downs', 'score', 'created_utc']\n",
    "                try:\n",
    "                    reddit_df.append([str(info['link_id']), self.subreddit, info['author'], info['comment'], info['ups'], \\\n",
    "                                      info['downs'], info['score'], info['created_utc']]) \n",
    "                except:\n",
    "                    errs.append(info)\n",
    "                    continue       \n",
    "        \n",
    "        print(f'변환 과정 중 {len(errs)}개의 파일 오류 발생')\n",
    "        reddit_df = pd.DataFrame(reddit_df, columns=columns)            \n",
    "        return reddit_df\n",
    "    \n",
    "    def load_data(self, file_name, reddit_type):\n",
    "        assert reddit_type in ['rs', 'rc', 'RS', 'RC']\n",
    "        reddit_df = pd.read_csv(os.path.join(self.save_path, file_name), \\\n",
    "                                dtype=self.rs_dtype if reddit_type.lower=='rs' else self.rc_dtype, engine='python')\n",
    "        return reddit_df\n",
    "    \n",
    "    def check_df(self, reddit_df):\n",
    "        print(f'전체 데이터 개수: {len(reddit_df)}\\n')\n",
    "        print(f'결측값 개수: \\n{reddit_df.isna().sum()}\\n')\n",
    "        print(f'중복 데이터 개수: {reddit_df.duplicated().sum()}')\n",
    "        # for column in reddit_df.columns:\n",
    "        #    print(f'{column} 타입: {pd.api.types.infer_dtype(reddit_df[column])}')\n",
    "        \n",
    "    def save_df(self, reddit_df, filename):\n",
    "        reddit_df.to_csv(os.path.join(self.save_path, filename), index=None)"
   ]
  },
  {
   "cell_type": "code",
   "execution_count": 5,
   "id": "d10723c7",
   "metadata": {},
   "outputs": [],
   "source": [
    "class RedditProcessor():\n",
    "    def __init__(self, data_path, save_path):\n",
    "        self.data_path = data_path\n",
    "        self.save_path = save_path\n",
    "    \n",
    "    def drop_na(self, reddit_df, reddit_type, na_type):\n",
    "        '''\n",
    "        na_type: 'na' (None object) or 'nc' ('')\n",
    "        '''\n",
    "        assert na_type in ['na','nc']\n",
    "        assert reddit_type in ['rs', 'rc', 'RS', 'RC']\n",
    "        \n",
    "        if na_type == 'na':\n",
    "            reddit_df.dropna(inplace=True)\n",
    "        else:\n",
    "            if reddit_type.lower() == 'rs':\n",
    "                reddit_df = reddit_df[reddit_df.title != '']\n",
    "                reddit_df = reddit_df[reddit_df.context != '']\n",
    "            else:\n",
    "                reddit_df = reddit_df[reddit_df.body != '']\n",
    "        reddit_df.reset_index(inplace=True, drop=True)\n",
    "        return reddit_df \n",
    "    \n",
    "    def drop_duplicates(self, reddit_df):\n",
    "        reddit_df.drop_duplicates(keep='first', inplace=True)\n",
    "        reddit_df.reset_index(inplace=True, drop=True)\n",
    "        return reddit_df\n",
    "\n",
    "    def cleanse_text(self, text):\n",
    "        if isinstance(text, float):\n",
    "            return []\n",
    "        \n",
    "        text = text.lower()   # lower case\n",
    "        text = re.sub(r\"http\\S*|\\S*\\.com\\S*|\\S*www\\S*\", \" \", text)    # delete url \n",
    "        text = re.sub(r\"\\s@\\S+\", \" \", text)   # delete @mentions\n",
    "        text = re.sub(r\"\\s+\", \" \", text)   # replace all whitespace with a single space\n",
    "        text = text.strip()    # strip off spaces on either end\n",
    "        \n",
    "        if len(text) < 6: \n",
    "            return ''\n",
    "        return text\n",
    "    \n",
    "    def get_token_list(self, reddit_df, reddit_type):\n",
    "        assert reddit_type in ['RS', 'RC', 'rs', 'rc']\n",
    "        if reddit_type.lower() == 'rs':\n",
    "            return [word_tokenize(context) for context in reddit_df.context.values.tolist()]\n",
    "        else:   # 2016  -> comment -> body\n",
    "            return [word_tokenize(context) for context in reddit_df.body.values.tolist()]\n",
    "    \n",
    "    def set_max_tok(self, reddit_df, reddit_type, max_len):\n",
    "        assert reddit_type in ['RS', 'RC', 'rs', 'rc']\n",
    "        tok_list = self.get_token_list(reddit_df, reddit_type)\n",
    "        idx_list = [idx for idx in range(len(tok_list)) if len(tok_list[idx]) <= max_len]\n",
    "        reddit_df = reddit_df.loc[idx_list]\n",
    "        reddit_df.reset_index(inplace=True, drop=True)\n",
    "        return reddit_df\n",
    "\n",
    "    def map_rc_rs(self, reddit_rs, reddit_rc):\n",
    "        '''\n",
    "        submission이 존재하지 않는 comment 제거 후, reddit_rc 반환하는 함수 \n",
    "        '''\n",
    "        id_list = reddit_rs.id.unique().tolist()\n",
    "        id_list = ['t3_' + id for id in id_list]\n",
    "        reddit_rc = reddit_rc[reddit_rc.id.isin(id_list)]\n",
    "        reddit_rc.reset_index(drop=True, inplace=True)\n",
    "        return reddit_rc"
   ]
  },
  {
   "cell_type": "code",
   "execution_count": 6,
   "id": "4935a38f",
   "metadata": {},
   "outputs": [],
   "source": [
    "class RedditVisual():\n",
    "    pass"
   ]
  },
  {
   "cell_type": "code",
   "execution_count": 7,
   "id": "28169b72",
   "metadata": {},
   "outputs": [
    {
     "data": {
      "text/plain": [
       "'Depression'"
      ]
     },
     "execution_count": 7,
     "metadata": {},
     "output_type": "execute_result"
    }
   ],
   "source": [
    "subreddit"
   ]
  },
  {
   "cell_type": "code",
   "execution_count": 8,
   "id": "5dc37973",
   "metadata": {},
   "outputs": [],
   "source": [
    "reddit = RedditData(subreddit, data_path, save_path)"
   ]
  },
  {
   "cell_type": "code",
   "execution_count": 9,
   "id": "f2d36b66",
   "metadata": {
    "scrolled": true
   },
   "outputs": [
    {
     "name": "stdout",
     "output_type": "stream",
     "text": [
      "['RS_2016-02', 'RS_2016-04', 'RS_2016-05', 'RS_2016-07', 'RS_2016-08', 'RS_2016-10', 'RS_2016-12', 'RS_2016-11', 'RS_2016-01', 'RS_2016-03', 'RS_2016-06', 'RS_2016-09']\n",
      "RS_2016-02월, 데이터 개수: 7146932\n",
      "RS_2016-04월, 데이터 개수: 6922510\n",
      "RS_2016-05월, 데이터 개수: 7277166\n",
      "RS_2016-07월, 데이터 개수: 7369835\n",
      "RS_2016-08월, 데이터 개수: 7591689\n",
      "RS_2016-10월, 데이터 개수: 8286759\n",
      "RS_2016-12월, 데이터 개수: 8921474\n",
      "RS_2016-11월, 데이터 개수: 8660144\n",
      "RS_2016-01월, 데이터 개수: 6877510\n",
      "RS_2016-03월, 데이터 개수: 6901239\n",
      "RS_2016-06월, 데이터 개수: 7188762\n",
      "RS_2016-09월, 데이터 개수: 7437862\n",
      "78183개의 파일 로드에 실패하였습니다.\n"
     ]
    }
   ],
   "source": [
    "rs, rs_err = reddit.extract_info('2017', 'RS')"
   ]
  },
  {
   "cell_type": "code",
   "execution_count": 11,
   "id": "8be62ac0",
   "metadata": {},
   "outputs": [
    {
     "ename": "NameError",
     "evalue": "name 'rs' is not defined",
     "output_type": "error",
     "traceback": [
      "\u001b[0;31m---------------------------------------------------------------------------\u001b[0m",
      "\u001b[0;31mNameError\u001b[0m                                 Traceback (most recent call last)",
      "Cell \u001b[0;32mIn [11], line 1\u001b[0m\n\u001b[0;32m----> 1\u001b[0m \u001b[38;5;28mlen\u001b[39m(rs), \u001b[38;5;28mlen\u001b[39m(rs_err)\n",
      "\u001b[0;31mNameError\u001b[0m: name 'rs' is not defined"
     ]
    }
   ],
   "source": [
    "len(rs), len(rs_err)"
   ]
  },
  {
   "cell_type": "code",
   "execution_count": 9,
   "id": "d286d90c",
   "metadata": {
    "scrolled": true
   },
   "outputs": [
    {
     "name": "stdout",
     "output_type": "stream",
     "text": [
      "['RC_2017-01']\n",
      "RC_2017-01월, 데이터 개수: 78946585\n",
      "0개의 파일 로드에 실패하였습니다.\n"
     ]
    }
   ],
   "source": [
    "rc, rc_err = reddit.extract_info('2017', 'RC')"
   ]
  },
  {
   "cell_type": "code",
   "execution_count": 17,
   "id": "eeb8ce57",
   "metadata": {
    "scrolled": true
   },
   "outputs": [
    {
     "data": {
      "text/plain": [
       "[]"
      ]
     },
     "execution_count": 17,
     "metadata": {},
     "output_type": "execute_result"
    }
   ],
   "source": [
    "rc"
   ]
  },
  {
   "cell_type": "code",
   "execution_count": 14,
   "id": "e4acc81f",
   "metadata": {},
   "outputs": [],
   "source": [
    "import pickle \n",
    "\n",
    "with open(os.path.join(save_path, '2016_rc.pickle'), 'wb') as f:\n",
    "    pickle.dump(rc, f, pickle.HIGHEST_PROTOCOL)"
   ]
  },
  {
   "cell_type": "code",
   "execution_count": 10,
   "id": "b253aba1",
   "metadata": {
    "scrolled": true
   },
   "outputs": [
    {
     "name": "stdout",
     "output_type": "stream",
     "text": [
      "변환 과정 중 0개의 파일 오류 발생\n"
     ]
    }
   ],
   "source": [
    "rs_df = reddit.convert_to_df(rs, 'RS')"
   ]
  },
  {
   "cell_type": "code",
   "execution_count": 11,
   "id": "312a1124",
   "metadata": {},
   "outputs": [
    {
     "data": {
      "text/html": [
       "<div>\n",
       "<style scoped>\n",
       "    .dataframe tbody tr th:only-of-type {\n",
       "        vertical-align: middle;\n",
       "    }\n",
       "\n",
       "    .dataframe tbody tr th {\n",
       "        vertical-align: top;\n",
       "    }\n",
       "\n",
       "    .dataframe thead th {\n",
       "        text-align: right;\n",
       "    }\n",
       "</style>\n",
       "<table border=\"1\" class=\"dataframe\">\n",
       "  <thead>\n",
       "    <tr style=\"text-align: right;\">\n",
       "      <th></th>\n",
       "      <th>id</th>\n",
       "      <th>subreddit</th>\n",
       "      <th>author</th>\n",
       "      <th>title</th>\n",
       "      <th>context</th>\n",
       "      <th>comments</th>\n",
       "      <th>score</th>\n",
       "      <th>url</th>\n",
       "      <th>created_utc</th>\n",
       "    </tr>\n",
       "  </thead>\n",
       "  <tbody>\n",
       "    <tr>\n",
       "      <th>0</th>\n",
       "      <td>43ltsn</td>\n",
       "      <td>SuicideWatch</td>\n",
       "      <td>Pontonpersonal</td>\n",
       "      <td>I have no regard for my safety and may end up ...</td>\n",
       "      <td>Recently I have been sneaking out of the house...</td>\n",
       "      <td>4</td>\n",
       "      <td>1</td>\n",
       "      <td>https://www.reddit.com/r/SuicideWatch/comments...</td>\n",
       "      <td>1454286303</td>\n",
       "    </tr>\n",
       "    <tr>\n",
       "      <th>1</th>\n",
       "      <td>43luaa</td>\n",
       "      <td>SuicideWatch</td>\n",
       "      <td>throwaway122457</td>\n",
       "      <td>Hoping this helps</td>\n",
       "      <td>I was going to send this to a friend, but I co...</td>\n",
       "      <td>3</td>\n",
       "      <td>5</td>\n",
       "      <td>https://www.reddit.com/r/SuicideWatch/comments...</td>\n",
       "      <td>1454286476</td>\n",
       "    </tr>\n",
       "    <tr>\n",
       "      <th>2</th>\n",
       "      <td>43lue8</td>\n",
       "      <td>SuicideWatch</td>\n",
       "      <td>evangregory1492</td>\n",
       "      <td>The straw that broke...</td>\n",
       "      <td>So i lost my job this week. It was a shit job ...</td>\n",
       "      <td>1</td>\n",
       "      <td>3</td>\n",
       "      <td>https://www.reddit.com/r/SuicideWatch/comments...</td>\n",
       "      <td>1454286520</td>\n",
       "    </tr>\n",
       "    <tr>\n",
       "      <th>3</th>\n",
       "      <td>43lvw7</td>\n",
       "      <td>SuicideWatch</td>\n",
       "      <td>TheLastSunriseD</td>\n",
       "      <td>Killing myself tonight</td>\n",
       "      <td>I dropped out of school because of social anxi...</td>\n",
       "      <td>32</td>\n",
       "      <td>39</td>\n",
       "      <td>https://www.reddit.com/r/SuicideWatch/comments...</td>\n",
       "      <td>1454287072</td>\n",
       "    </tr>\n",
       "    <tr>\n",
       "      <th>4</th>\n",
       "      <td>43lwgh</td>\n",
       "      <td>SuicideWatch</td>\n",
       "      <td>narcolepsythrowaway1</td>\n",
       "      <td>No Light at the End of the Tunnel</td>\n",
       "      <td>Let me start off by saying that my considerati...</td>\n",
       "      <td>1</td>\n",
       "      <td>1</td>\n",
       "      <td>https://www.reddit.com/r/SuicideWatch/comments...</td>\n",
       "      <td>1454287304</td>\n",
       "    </tr>\n",
       "    <tr>\n",
       "      <th>...</th>\n",
       "      <td>...</td>\n",
       "      <td>...</td>\n",
       "      <td>...</td>\n",
       "      <td>...</td>\n",
       "      <td>...</td>\n",
       "      <td>...</td>\n",
       "      <td>...</td>\n",
       "      <td>...</td>\n",
       "      <td>...</td>\n",
       "    </tr>\n",
       "    <tr>\n",
       "      <th>22828</th>\n",
       "      <td>55am7j</td>\n",
       "      <td>SuicideWatch</td>\n",
       "      <td>curiousyoungbonobo</td>\n",
       "      <td>Fuck</td>\n",
       "      <td>I've been going through some shit for years an...</td>\n",
       "      <td>1</td>\n",
       "      <td>6</td>\n",
       "      <td>https://www.reddit.com/r/SuicideWatch/comments...</td>\n",
       "      <td>1475276892</td>\n",
       "    </tr>\n",
       "    <tr>\n",
       "      <th>22829</th>\n",
       "      <td>55amry</td>\n",
       "      <td>SuicideWatch</td>\n",
       "      <td>love_is_free</td>\n",
       "      <td>I hope to be dead by this time tomorrow.</td>\n",
       "      <td>I'm a 20-year-old girl who's given up on life....</td>\n",
       "      <td>2</td>\n",
       "      <td>1</td>\n",
       "      <td>https://www.reddit.com/r/SuicideWatch/comments...</td>\n",
       "      <td>1475277132</td>\n",
       "    </tr>\n",
       "    <tr>\n",
       "      <th>22830</th>\n",
       "      <td>55an48</td>\n",
       "      <td>SuicideWatch</td>\n",
       "      <td>Plsanswerawkwardporn</td>\n",
       "      <td>Why won't anyone help me?</td>\n",
       "      <td>I can't ask for help because I'm bad at everyt...</td>\n",
       "      <td>5</td>\n",
       "      <td>4</td>\n",
       "      <td>https://www.reddit.com/r/SuicideWatch/comments...</td>\n",
       "      <td>1475277276</td>\n",
       "    </tr>\n",
       "    <tr>\n",
       "      <th>22831</th>\n",
       "      <td>55aq62</td>\n",
       "      <td>SuicideWatch</td>\n",
       "      <td>CanderousOrdinance</td>\n",
       "      <td>Life after the psych ward</td>\n",
       "      <td>So I spent most of last week in the hospital b...</td>\n",
       "      <td>8</td>\n",
       "      <td>10</td>\n",
       "      <td>https://www.reddit.com/r/SuicideWatch/comments...</td>\n",
       "      <td>1475278520</td>\n",
       "    </tr>\n",
       "    <tr>\n",
       "      <th>22832</th>\n",
       "      <td>55aqiv</td>\n",
       "      <td>SuicideWatch</td>\n",
       "      <td>KanashiNeko</td>\n",
       "      <td>Still want to die but no motivation to commit ...</td>\n",
       "      <td>Anyone feel this way?\\n\\nIf I really did want ...</td>\n",
       "      <td>10</td>\n",
       "      <td>6</td>\n",
       "      <td>https://www.reddit.com/r/SuicideWatch/comments...</td>\n",
       "      <td>1475278682</td>\n",
       "    </tr>\n",
       "  </tbody>\n",
       "</table>\n",
       "<p>22833 rows × 9 columns</p>\n",
       "</div>"
      ],
      "text/plain": [
       "           id     subreddit                author  \\\n",
       "0      43ltsn  SuicideWatch        Pontonpersonal   \n",
       "1      43luaa  SuicideWatch       throwaway122457   \n",
       "2      43lue8  SuicideWatch       evangregory1492   \n",
       "3      43lvw7  SuicideWatch       TheLastSunriseD   \n",
       "4      43lwgh  SuicideWatch  narcolepsythrowaway1   \n",
       "...       ...           ...                   ...   \n",
       "22828  55am7j  SuicideWatch    curiousyoungbonobo   \n",
       "22829  55amry  SuicideWatch          love_is_free   \n",
       "22830  55an48  SuicideWatch  Plsanswerawkwardporn   \n",
       "22831  55aq62  SuicideWatch    CanderousOrdinance   \n",
       "22832  55aqiv  SuicideWatch           KanashiNeko   \n",
       "\n",
       "                                                   title  \\\n",
       "0      I have no regard for my safety and may end up ...   \n",
       "1                                      Hoping this helps   \n",
       "2                                The straw that broke...   \n",
       "3                                 Killing myself tonight   \n",
       "4                      No Light at the End of the Tunnel   \n",
       "...                                                  ...   \n",
       "22828                                               Fuck   \n",
       "22829           I hope to be dead by this time tomorrow.   \n",
       "22830                          Why won't anyone help me?   \n",
       "22831                          Life after the psych ward   \n",
       "22832  Still want to die but no motivation to commit ...   \n",
       "\n",
       "                                                 context  comments  score  \\\n",
       "0      Recently I have been sneaking out of the house...         4      1   \n",
       "1      I was going to send this to a friend, but I co...         3      5   \n",
       "2      So i lost my job this week. It was a shit job ...         1      3   \n",
       "3      I dropped out of school because of social anxi...        32     39   \n",
       "4      Let me start off by saying that my considerati...         1      1   \n",
       "...                                                  ...       ...    ...   \n",
       "22828  I've been going through some shit for years an...         1      6   \n",
       "22829  I'm a 20-year-old girl who's given up on life....         2      1   \n",
       "22830  I can't ask for help because I'm bad at everyt...         5      4   \n",
       "22831  So I spent most of last week in the hospital b...         8     10   \n",
       "22832  Anyone feel this way?\\n\\nIf I really did want ...        10      6   \n",
       "\n",
       "                                                     url  created_utc  \n",
       "0      https://www.reddit.com/r/SuicideWatch/comments...   1454286303  \n",
       "1      https://www.reddit.com/r/SuicideWatch/comments...   1454286476  \n",
       "2      https://www.reddit.com/r/SuicideWatch/comments...   1454286520  \n",
       "3      https://www.reddit.com/r/SuicideWatch/comments...   1454287072  \n",
       "4      https://www.reddit.com/r/SuicideWatch/comments...   1454287304  \n",
       "...                                                  ...          ...  \n",
       "22828  https://www.reddit.com/r/SuicideWatch/comments...   1475276892  \n",
       "22829  https://www.reddit.com/r/SuicideWatch/comments...   1475277132  \n",
       "22830  https://www.reddit.com/r/SuicideWatch/comments...   1475277276  \n",
       "22831  https://www.reddit.com/r/SuicideWatch/comments...   1475278520  \n",
       "22832  https://www.reddit.com/r/SuicideWatch/comments...   1475278682  \n",
       "\n",
       "[22833 rows x 9 columns]"
      ]
     },
     "execution_count": 11,
     "metadata": {},
     "output_type": "execute_result"
    }
   ],
   "source": [
    "rs_df"
   ]
  },
  {
   "cell_type": "code",
   "execution_count": 12,
   "id": "046db059",
   "metadata": {},
   "outputs": [],
   "source": [
    "reddit.save_df(rs_df, rs_file)"
   ]
  },
  {
   "cell_type": "code",
   "execution_count": null,
   "id": "482fa1d6",
   "metadata": {},
   "outputs": [],
   "source": [
    "rs_df = reddit.convert_to_df(rs, 'RS')\n",
    "rc_df = reddit.convert_to_df(rc, 'RC')"
   ]
  },
  {
   "cell_type": "code",
   "execution_count": null,
   "id": "c80a36e9",
   "metadata": {},
   "outputs": [],
   "source": [
    "reddit.save_df(rs_df, rs_file)\n",
    "reddit.save_df(rc_df, rc_file)"
   ]
  },
  {
   "cell_type": "markdown",
   "id": "e1e1d1b1",
   "metadata": {},
   "source": [
    "### 3. Data Process"
   ]
  },
  {
   "cell_type": "markdown",
   "id": "91ee4b5e",
   "metadata": {},
   "source": [
    "#### 3.1 결측치 & 중복 값 제거"
   ]
  },
  {
   "cell_type": "code",
   "execution_count": 21,
   "id": "f0f805a0",
   "metadata": {},
   "outputs": [],
   "source": [
    "rProcessor = RedditProcessor(data_path, save_path)"
   ]
  },
  {
   "cell_type": "code",
   "execution_count": 22,
   "id": "cc958a9a",
   "metadata": {},
   "outputs": [],
   "source": [
    "rs = reddit.load_data(rs_file2, 'rs')\n",
    "rc = reddit.load_data(rc_file2, 'rc')"
   ]
  },
  {
   "cell_type": "code",
   "execution_count": 23,
   "id": "645c42f9",
   "metadata": {
    "scrolled": true
   },
   "outputs": [
    {
     "data": {
      "text/plain": [
       "(65185, 219375)"
      ]
     },
     "execution_count": 23,
     "metadata": {},
     "output_type": "execute_result"
    }
   ],
   "source": [
    "len(rs), len(rc)"
   ]
  },
  {
   "cell_type": "code",
   "execution_count": 24,
   "id": "b189e67f",
   "metadata": {},
   "outputs": [
    {
     "name": "stdout",
     "output_type": "stream",
     "text": [
      "전체 데이터 개수: 219375\n",
      "\n",
      "결측값 개수: \n",
      "id             0\n",
      "subreddit      0\n",
      "author         0\n",
      "body           0\n",
      "ups            0\n",
      "score          0\n",
      "created_utc    0\n",
      "dtype: int64\n",
      "\n",
      "중복 데이터 개수: 1\n"
     ]
    }
   ],
   "source": [
    "reddit.check_df(rc)"
   ]
  },
  {
   "cell_type": "code",
   "execution_count": 25,
   "id": "3f23488b",
   "metadata": {
    "scrolled": false
   },
   "outputs": [
    {
     "data": {
      "text/html": [
       "<div>\n",
       "<style scoped>\n",
       "    .dataframe tbody tr th:only-of-type {\n",
       "        vertical-align: middle;\n",
       "    }\n",
       "\n",
       "    .dataframe tbody tr th {\n",
       "        vertical-align: top;\n",
       "    }\n",
       "\n",
       "    .dataframe thead th {\n",
       "        text-align: right;\n",
       "    }\n",
       "</style>\n",
       "<table border=\"1\" class=\"dataframe\">\n",
       "  <thead>\n",
       "    <tr style=\"text-align: right;\">\n",
       "      <th></th>\n",
       "      <th>id</th>\n",
       "      <th>subreddit</th>\n",
       "      <th>author</th>\n",
       "      <th>title</th>\n",
       "      <th>context</th>\n",
       "      <th>comments</th>\n",
       "      <th>score</th>\n",
       "      <th>url</th>\n",
       "      <th>created_utc</th>\n",
       "    </tr>\n",
       "  </thead>\n",
       "  <tbody>\n",
       "    <tr>\n",
       "      <th>65182</th>\n",
       "      <td>55asdi</td>\n",
       "      <td>depression</td>\n",
       "      <td>legion_2k</td>\n",
       "      <td>music!!! has probably saved me many times.</td>\n",
       "      <td>i am sure it's some ancient instinct that huma...</td>\n",
       "      <td>13</td>\n",
       "      <td>3</td>\n",
       "      <td>https://www.reddit.com/r/depression/comments/5...</td>\n",
       "      <td>1475279438</td>\n",
       "    </tr>\n",
       "    <tr>\n",
       "      <th>65183</th>\n",
       "      <td>55asx6</td>\n",
       "      <td>depression</td>\n",
       "      <td>ijusttriedthaifood</td>\n",
       "      <td>i wish i had a best friend</td>\n",
       "      <td>everyone talks about how they have somebody wh...</td>\n",
       "      <td>6</td>\n",
       "      <td>19</td>\n",
       "      <td>https://www.reddit.com/r/depression/comments/5...</td>\n",
       "      <td>1475279654</td>\n",
       "    </tr>\n",
       "    <tr>\n",
       "      <th>65184</th>\n",
       "      <td>55atn3</td>\n",
       "      <td>depression</td>\n",
       "      <td>KoNaosuke</td>\n",
       "      <td>someone feels bad when watch other people happ...</td>\n",
       "      <td>i have been with depression for more than 10 y...</td>\n",
       "      <td>0</td>\n",
       "      <td>1</td>\n",
       "      <td>https://www.reddit.com/r/depression/comments/5...</td>\n",
       "      <td>1475279977</td>\n",
       "    </tr>\n",
       "  </tbody>\n",
       "</table>\n",
       "</div>"
      ],
      "text/plain": [
       "           id   subreddit              author  \\\n",
       "65182  55asdi  depression           legion_2k   \n",
       "65183  55asx6  depression  ijusttriedthaifood   \n",
       "65184  55atn3  depression           KoNaosuke   \n",
       "\n",
       "                                                   title  \\\n",
       "65182         music!!! has probably saved me many times.   \n",
       "65183                         i wish i had a best friend   \n",
       "65184  someone feels bad when watch other people happ...   \n",
       "\n",
       "                                                 context  comments  score  \\\n",
       "65182  i am sure it's some ancient instinct that huma...        13      3   \n",
       "65183  everyone talks about how they have somebody wh...         6     19   \n",
       "65184  i have been with depression for more than 10 y...         0      1   \n",
       "\n",
       "                                                     url  created_utc  \n",
       "65182  https://www.reddit.com/r/depression/comments/5...   1475279438  \n",
       "65183  https://www.reddit.com/r/depression/comments/5...   1475279654  \n",
       "65184  https://www.reddit.com/r/depression/comments/5...   1475279977  "
      ]
     },
     "execution_count": 25,
     "metadata": {},
     "output_type": "execute_result"
    }
   ],
   "source": [
    "rs = rProcessor.drop_na(rs, 'rs', 'na')\n",
    "rs = rProcessor.drop_duplicates(rs)\n",
    "rs.tail(3)"
   ]
  },
  {
   "cell_type": "code",
   "execution_count": 26,
   "id": "a5b8dade",
   "metadata": {},
   "outputs": [
    {
     "data": {
      "text/html": [
       "<div>\n",
       "<style scoped>\n",
       "    .dataframe tbody tr th:only-of-type {\n",
       "        vertical-align: middle;\n",
       "    }\n",
       "\n",
       "    .dataframe tbody tr th {\n",
       "        vertical-align: top;\n",
       "    }\n",
       "\n",
       "    .dataframe thead th {\n",
       "        text-align: right;\n",
       "    }\n",
       "</style>\n",
       "<table border=\"1\" class=\"dataframe\">\n",
       "  <thead>\n",
       "    <tr style=\"text-align: right;\">\n",
       "      <th></th>\n",
       "      <th>id</th>\n",
       "      <th>subreddit</th>\n",
       "      <th>author</th>\n",
       "      <th>body</th>\n",
       "      <th>ups</th>\n",
       "      <th>score</th>\n",
       "      <th>created_utc</th>\n",
       "    </tr>\n",
       "  </thead>\n",
       "  <tbody>\n",
       "    <tr>\n",
       "      <th>219371</th>\n",
       "      <td>t3_4vjdrf</td>\n",
       "      <td>depression</td>\n",
       "      <td>thelonelyfootballfan</td>\n",
       "      <td>hi, i'd really like to talk to you but i don't...</td>\n",
       "      <td>1.0</td>\n",
       "      <td>1.0</td>\n",
       "      <td>1.470009e+09</td>\n",
       "    </tr>\n",
       "    <tr>\n",
       "      <th>219372</th>\n",
       "      <td>t3_4vjcb2</td>\n",
       "      <td>depression</td>\n",
       "      <td>LegacyMJT</td>\n",
       "      <td>i understand. one time a week ago i went throu...</td>\n",
       "      <td>7.0</td>\n",
       "      <td>7.0</td>\n",
       "      <td>1.470010e+09</td>\n",
       "    </tr>\n",
       "    <tr>\n",
       "      <th>219373</th>\n",
       "      <td>t3_4vjdrf</td>\n",
       "      <td>depression</td>\n",
       "      <td>AcidPack</td>\n",
       "      <td>you can click on their username at the top of ...</td>\n",
       "      <td>1.0</td>\n",
       "      <td>1.0</td>\n",
       "      <td>1.470010e+09</td>\n",
       "    </tr>\n",
       "  </tbody>\n",
       "</table>\n",
       "</div>"
      ],
      "text/plain": [
       "               id   subreddit                author  \\\n",
       "219371  t3_4vjdrf  depression  thelonelyfootballfan   \n",
       "219372  t3_4vjcb2  depression             LegacyMJT   \n",
       "219373  t3_4vjdrf  depression              AcidPack   \n",
       "\n",
       "                                                     body  ups  score  \\\n",
       "219371  hi, i'd really like to talk to you but i don't...  1.0    1.0   \n",
       "219372  i understand. one time a week ago i went throu...  7.0    7.0   \n",
       "219373  you can click on their username at the top of ...  1.0    1.0   \n",
       "\n",
       "         created_utc  \n",
       "219371  1.470009e+09  \n",
       "219372  1.470010e+09  \n",
       "219373  1.470010e+09  "
      ]
     },
     "execution_count": 26,
     "metadata": {},
     "output_type": "execute_result"
    }
   ],
   "source": [
    "rc = rProcessor.drop_na(rc, 'rc', 'na')\n",
    "rc = rProcessor.drop_duplicates(rc)\n",
    "rc.tail(3)"
   ]
  },
  {
   "cell_type": "code",
   "execution_count": 27,
   "id": "4e599d0c",
   "metadata": {},
   "outputs": [],
   "source": [
    "reddit.save_df(rs, rs_file)\n",
    "reddit.save_df(rc, rc_file)"
   ]
  },
  {
   "cell_type": "code",
   "execution_count": 28,
   "id": "f416e942",
   "metadata": {},
   "outputs": [
    {
     "data": {
      "text/plain": [
       "(65185, 219374)"
      ]
     },
     "execution_count": 28,
     "metadata": {},
     "output_type": "execute_result"
    }
   ],
   "source": [
    "len(rs), len(rc)"
   ]
  },
  {
   "cell_type": "markdown",
   "id": "91a11763",
   "metadata": {},
   "source": [
    "#### 3.2 Submission이 없는 Comment 제거"
   ]
  },
  {
   "cell_type": "code",
   "execution_count": 31,
   "id": "94ec128f",
   "metadata": {},
   "outputs": [],
   "source": [
    "rc3 = rProcessor.map_rc_rs(rs2, rc2)"
   ]
  },
  {
   "cell_type": "code",
   "execution_count": 32,
   "id": "51763ad2",
   "metadata": {
    "scrolled": false
   },
   "outputs": [
    {
     "data": {
      "text/plain": [
       "(65185, 219374, 216344)"
      ]
     },
     "execution_count": 32,
     "metadata": {},
     "output_type": "execute_result"
    }
   ],
   "source": [
    "len(rs2), len(rc2), len(rc3)"
   ]
  },
  {
   "cell_type": "code",
   "execution_count": 33,
   "id": "2169e9c5",
   "metadata": {},
   "outputs": [
    {
     "data": {
      "text/html": [
       "<div>\n",
       "<style scoped>\n",
       "    .dataframe tbody tr th:only-of-type {\n",
       "        vertical-align: middle;\n",
       "    }\n",
       "\n",
       "    .dataframe tbody tr th {\n",
       "        vertical-align: top;\n",
       "    }\n",
       "\n",
       "    .dataframe thead th {\n",
       "        text-align: right;\n",
       "    }\n",
       "</style>\n",
       "<table border=\"1\" class=\"dataframe\">\n",
       "  <thead>\n",
       "    <tr style=\"text-align: right;\">\n",
       "      <th></th>\n",
       "      <th>id</th>\n",
       "      <th>subreddit</th>\n",
       "      <th>author</th>\n",
       "      <th>body</th>\n",
       "      <th>ups</th>\n",
       "      <th>score</th>\n",
       "      <th>created_utc</th>\n",
       "    </tr>\n",
       "  </thead>\n",
       "  <tbody>\n",
       "    <tr>\n",
       "      <th>0</th>\n",
       "      <td>t3_48bugn</td>\n",
       "      <td>depression</td>\n",
       "      <td>Catachaos</td>\n",
       "      <td>who's there?</td>\n",
       "      <td>1.0</td>\n",
       "      <td>1.0</td>\n",
       "      <td>1.456790e+09</td>\n",
       "    </tr>\n",
       "    <tr>\n",
       "      <th>1</th>\n",
       "      <td>t3_48b67a</td>\n",
       "      <td>depression</td>\n",
       "      <td>[deleted]</td>\n",
       "      <td>[removed]</td>\n",
       "      <td>4.0</td>\n",
       "      <td>4.0</td>\n",
       "      <td>1.456791e+09</td>\n",
       "    </tr>\n",
       "    <tr>\n",
       "      <th>2</th>\n",
       "      <td>t3_48bugn</td>\n",
       "      <td>depression</td>\n",
       "      <td>Catachaos</td>\n",
       "      <td>i like the naming of bobb. my mum had a cat ca...</td>\n",
       "      <td>2.0</td>\n",
       "      <td>2.0</td>\n",
       "      <td>1.456791e+09</td>\n",
       "    </tr>\n",
       "    <tr>\n",
       "      <th>3</th>\n",
       "      <td>t3_48ckgp</td>\n",
       "      <td>depression</td>\n",
       "      <td>Silverkid99</td>\n",
       "      <td>go lay down and cry, or let your emotions out ...</td>\n",
       "      <td>1.0</td>\n",
       "      <td>1.0</td>\n",
       "      <td>1.456791e+09</td>\n",
       "    </tr>\n",
       "    <tr>\n",
       "      <th>4</th>\n",
       "      <td>t3_48ddm6</td>\n",
       "      <td>depression</td>\n",
       "      <td>Silverkid99</td>\n",
       "      <td>you aren't a failure, you've graduated college...</td>\n",
       "      <td>2.0</td>\n",
       "      <td>2.0</td>\n",
       "      <td>1.456791e+09</td>\n",
       "    </tr>\n",
       "    <tr>\n",
       "      <th>...</th>\n",
       "      <td>...</td>\n",
       "      <td>...</td>\n",
       "      <td>...</td>\n",
       "      <td>...</td>\n",
       "      <td>...</td>\n",
       "      <td>...</td>\n",
       "      <td>...</td>\n",
       "    </tr>\n",
       "    <tr>\n",
       "      <th>216339</th>\n",
       "      <td>t3_4ugo0c</td>\n",
       "      <td>depression</td>\n",
       "      <td>JaazzHandss</td>\n",
       "      <td>thanks for listening to me.</td>\n",
       "      <td>1.0</td>\n",
       "      <td>1.0</td>\n",
       "      <td>1.470009e+09</td>\n",
       "    </tr>\n",
       "    <tr>\n",
       "      <th>216340</th>\n",
       "      <td>t3_4vglqn</td>\n",
       "      <td>depression</td>\n",
       "      <td>whytf_not</td>\n",
       "      <td>never apologize for mcr.</td>\n",
       "      <td>2.0</td>\n",
       "      <td>2.0</td>\n",
       "      <td>1.470009e+09</td>\n",
       "    </tr>\n",
       "    <tr>\n",
       "      <th>216341</th>\n",
       "      <td>t3_4vjdrf</td>\n",
       "      <td>depression</td>\n",
       "      <td>thelonelyfootballfan</td>\n",
       "      <td>hi, i'd really like to talk to you but i don't...</td>\n",
       "      <td>1.0</td>\n",
       "      <td>1.0</td>\n",
       "      <td>1.470009e+09</td>\n",
       "    </tr>\n",
       "    <tr>\n",
       "      <th>216342</th>\n",
       "      <td>t3_4vjcb2</td>\n",
       "      <td>depression</td>\n",
       "      <td>LegacyMJT</td>\n",
       "      <td>i understand. one time a week ago i went throu...</td>\n",
       "      <td>7.0</td>\n",
       "      <td>7.0</td>\n",
       "      <td>1.470010e+09</td>\n",
       "    </tr>\n",
       "    <tr>\n",
       "      <th>216343</th>\n",
       "      <td>t3_4vjdrf</td>\n",
       "      <td>depression</td>\n",
       "      <td>AcidPack</td>\n",
       "      <td>you can click on their username at the top of ...</td>\n",
       "      <td>1.0</td>\n",
       "      <td>1.0</td>\n",
       "      <td>1.470010e+09</td>\n",
       "    </tr>\n",
       "  </tbody>\n",
       "</table>\n",
       "<p>216344 rows × 7 columns</p>\n",
       "</div>"
      ],
      "text/plain": [
       "               id   subreddit                author  \\\n",
       "0       t3_48bugn  depression             Catachaos   \n",
       "1       t3_48b67a  depression             [deleted]   \n",
       "2       t3_48bugn  depression             Catachaos   \n",
       "3       t3_48ckgp  depression           Silverkid99   \n",
       "4       t3_48ddm6  depression           Silverkid99   \n",
       "...           ...         ...                   ...   \n",
       "216339  t3_4ugo0c  depression           JaazzHandss   \n",
       "216340  t3_4vglqn  depression             whytf_not   \n",
       "216341  t3_4vjdrf  depression  thelonelyfootballfan   \n",
       "216342  t3_4vjcb2  depression             LegacyMJT   \n",
       "216343  t3_4vjdrf  depression              AcidPack   \n",
       "\n",
       "                                                     body  ups  score  \\\n",
       "0                                            who's there?  1.0    1.0   \n",
       "1                                               [removed]  4.0    4.0   \n",
       "2       i like the naming of bobb. my mum had a cat ca...  2.0    2.0   \n",
       "3       go lay down and cry, or let your emotions out ...  1.0    1.0   \n",
       "4       you aren't a failure, you've graduated college...  2.0    2.0   \n",
       "...                                                   ...  ...    ...   \n",
       "216339                        thanks for listening to me.  1.0    1.0   \n",
       "216340                           never apologize for mcr.  2.0    2.0   \n",
       "216341  hi, i'd really like to talk to you but i don't...  1.0    1.0   \n",
       "216342  i understand. one time a week ago i went throu...  7.0    7.0   \n",
       "216343  you can click on their username at the top of ...  1.0    1.0   \n",
       "\n",
       "         created_utc  \n",
       "0       1.456790e+09  \n",
       "1       1.456791e+09  \n",
       "2       1.456791e+09  \n",
       "3       1.456791e+09  \n",
       "4       1.456791e+09  \n",
       "...              ...  \n",
       "216339  1.470009e+09  \n",
       "216340  1.470009e+09  \n",
       "216341  1.470009e+09  \n",
       "216342  1.470010e+09  \n",
       "216343  1.470010e+09  \n",
       "\n",
       "[216344 rows x 7 columns]"
      ]
     },
     "execution_count": 33,
     "metadata": {},
     "output_type": "execute_result"
    }
   ],
   "source": [
    "rc3"
   ]
  },
  {
   "cell_type": "markdown",
   "id": "ff73c7fb",
   "metadata": {},
   "source": [
    "#### 3.3 Text Cleaning "
   ]
  },
  {
   "cell_type": "code",
   "execution_count": 35,
   "id": "e6bd6e61",
   "metadata": {},
   "outputs": [
    {
     "name": "stderr",
     "output_type": "stream",
     "text": [
      "/tmp/ipykernel_8328/4204008841.py:3: SettingWithCopyWarning: \n",
      "A value is trying to be set on a copy of a slice from a DataFrame.\n",
      "Try using .loc[row_indexer,col_indexer] = value instead\n",
      "\n",
      "See the caveats in the documentation: https://pandas.pydata.org/pandas-docs/stable/user_guide/indexing.html#returning-a-view-versus-a-copy\n",
      "  rc3.body = rc3.body.apply(rProcessor.cleanse_text)\n"
     ]
    }
   ],
   "source": [
    "rs2.title = rs2.title.apply(rProcessor.cleanse_text)\n",
    "rs2.context = rs2.context.apply(rProcessor.cleanse_text)\n",
    "rc3.body = rc3.body.apply(rProcessor.cleanse_text)"
   ]
  },
  {
   "cell_type": "markdown",
   "id": "6752317f",
   "metadata": {},
   "source": [
    "#### 3.5 Drop na"
   ]
  },
  {
   "cell_type": "code",
   "execution_count": 36,
   "id": "f1833b79",
   "metadata": {},
   "outputs": [
    {
     "data": {
      "text/plain": [
       "(65185, 216344)"
      ]
     },
     "execution_count": 36,
     "metadata": {},
     "output_type": "execute_result"
    }
   ],
   "source": [
    "len(rs2), len(rc3)"
   ]
  },
  {
   "cell_type": "code",
   "execution_count": null,
   "id": "746e03e2",
   "metadata": {},
   "outputs": [],
   "source": [
    "rs2 = rProcessor.drop_na(rs2, 'rs', 'nc')\n",
    "rc3 = rProcessor.drop_na(rc3, 'rc', 'nc')"
   ]
  },
  {
   "cell_type": "code",
   "execution_count": null,
   "id": "b52b26a0",
   "metadata": {},
   "outputs": [],
   "source": [
    "len(rs2), len(rc3)"
   ]
  },
  {
   "cell_type": "code",
   "execution_count": null,
   "id": "f75a83f6",
   "metadata": {},
   "outputs": [],
   "source": [
    "rc3[rc3.comment.str.len() <=5]"
   ]
  },
  {
   "cell_type": "markdown",
   "id": "c558dce8",
   "metadata": {},
   "source": [
    "#### 3.6 Save df "
   ]
  },
  {
   "cell_type": "code",
   "execution_count": 31,
   "id": "c649d373",
   "metadata": {},
   "outputs": [],
   "source": [
    "reddit.save_df(rs2, rs_file2)"
   ]
  },
  {
   "cell_type": "code",
   "execution_count": 30,
   "id": "3ca43168",
   "metadata": {},
   "outputs": [],
   "source": [
    "reddit.save_df(rs2, rs_file2)\n",
    "reddit.save_df(rc3, rc_file2)"
   ]
  },
  {
   "cell_type": "code",
   "execution_count": 32,
   "id": "4af72a35",
   "metadata": {},
   "outputs": [],
   "source": [
    "reddit.save_df(rc3, rc_file2)"
   ]
  },
  {
   "cell_type": "code",
   "execution_count": null,
   "id": "ee20ec16",
   "metadata": {},
   "outputs": [],
   "source": []
  }
 ],
 "metadata": {
  "kernelspec": {
   "display_name": "Python 3",
   "language": "python",
   "name": "python3"
  },
  "language_info": {
   "codemirror_mode": {
    "name": "ipython",
    "version": 3
   },
   "file_extension": ".py",
   "mimetype": "text/x-python",
   "name": "python",
   "nbconvert_exporter": "python",
   "pygments_lexer": "ipython3",
   "version": "3.8.8"
  }
 },
 "nbformat": 4,
 "nbformat_minor": 5
}
