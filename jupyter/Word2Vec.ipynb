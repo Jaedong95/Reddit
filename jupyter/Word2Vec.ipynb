{
 "cells": [
  {
   "cell_type": "code",
   "execution_count": 31,
   "id": "60691756",
   "metadata": {},
   "outputs": [],
   "source": [
    "import os \n",
    "import numpy as np\n",
    "import pandas as pd \n",
    "from nltk.tokenize import word_tokenize\n",
    "from gensim.models import Word2Vec\n",
    "from gensim.models import KeyedVectors"
   ]
  },
  {
   "cell_type": "code",
   "execution_count": 5,
   "id": "56e35645",
   "metadata": {},
   "outputs": [],
   "source": [
    "default_path = '/home/lamda_00/Data-related'\n",
    "data_path = os.path.join(default_path, 'data', 'Reddit_processed')\n",
    "model_path = os.path.join(default_path, 'model')"
   ]
  },
  {
   "cell_type": "code",
   "execution_count": 7,
   "id": "5e2cc683",
   "metadata": {},
   "outputs": [
    {
     "data": {
      "text/html": [
       "<div>\n",
       "<style scoped>\n",
       "    .dataframe tbody tr th:only-of-type {\n",
       "        vertical-align: middle;\n",
       "    }\n",
       "\n",
       "    .dataframe tbody tr th {\n",
       "        vertical-align: top;\n",
       "    }\n",
       "\n",
       "    .dataframe thead th {\n",
       "        text-align: right;\n",
       "    }\n",
       "</style>\n",
       "<table border=\"1\" class=\"dataframe\">\n",
       "  <thead>\n",
       "    <tr style=\"text-align: right;\">\n",
       "      <th></th>\n",
       "      <th>id</th>\n",
       "      <th>type</th>\n",
       "      <th>text</th>\n",
       "      <th>label</th>\n",
       "    </tr>\n",
       "  </thead>\n",
       "  <tbody>\n",
       "    <tr>\n",
       "      <th>0</th>\n",
       "      <td>akj8u</td>\n",
       "      <td>post</td>\n",
       "      <td>i don't have an addictive personality, so for ...</td>\n",
       "      <td>0</td>\n",
       "    </tr>\n",
       "    <tr>\n",
       "      <th>1</th>\n",
       "      <td>akj8u</td>\n",
       "      <td>post</td>\n",
       "      <td>i occasionally look drunk</td>\n",
       "      <td>0</td>\n",
       "    </tr>\n",
       "    <tr>\n",
       "      <th>2</th>\n",
       "      <td>akj8u</td>\n",
       "      <td>post</td>\n",
       "      <td>but, in the last 28 months i've kept a high st...</td>\n",
       "      <td>0</td>\n",
       "    </tr>\n",
       "  </tbody>\n",
       "</table>\n",
       "</div>"
      ],
      "text/plain": [
       "      id  type                                               text  label\n",
       "0  akj8u  post  i don't have an addictive personality, so for ...      0\n",
       "1  akj8u  post                          i occasionally look drunk      0\n",
       "2  akj8u  post  but, in the last 28 months i've kept a high st...      0"
      ]
     },
     "execution_count": 7,
     "metadata": {},
     "output_type": "execute_result"
    }
   ],
   "source": [
    "dataset2 = pd.read_csv(os.path.join(data_path, 'dataset2_processed.csv'))\n",
    "dataset2.head(3)"
   ]
  },
  {
   "cell_type": "code",
   "execution_count": 8,
   "id": "bd088efa",
   "metadata": {},
   "outputs": [
    {
     "data": {
      "text/plain": [
       "5036211"
      ]
     },
     "execution_count": 8,
     "metadata": {},
     "output_type": "execute_result"
    }
   ],
   "source": [
    "total_tok = [word_tokenize(sentence) for sentence in dataset2.text.values.tolist()]\n",
    "# model = Word2Vec(sentences=total_tok, vector_size=100, window=5, min_count=5, workers=8, sg=0)\n",
    "# model.wv.save_word2vec_format(os.path.join(model_path,'word2vec_reddit_7y'))\n",
    "len(total_tok)"
   ]
  },
  {
   "cell_type": "code",
   "execution_count": 12,
   "id": "846f29a1",
   "metadata": {},
   "outputs": [],
   "source": [
    "word_list = ['depressed', 'lethargic', 'appetite', 'weight', 'insomnia', 'hypersomnia', 'sleep', 'agitation', 'retardation',\\\n",
    "             'fatigue', 'worthless', 'guilt', 'concentrate', 'indecisive', 'suicidal']"
   ]
  },
  {
   "cell_type": "code",
   "execution_count": 10,
   "id": "3e320671",
   "metadata": {},
   "outputs": [],
   "source": [
    "model = KeyedVectors.load_word2vec_format(os.path.join(model_path,'word2vec_reddit_7y'))"
   ]
  },
  {
   "cell_type": "code",
   "execution_count": 25,
   "id": "ec3959f1",
   "metadata": {},
   "outputs": [],
   "source": [
    "sim_words = []\n",
    "\n",
    "for word in word_list:\n",
    "    sim_words.append(list(map(lambda x: x[0], model.most_similar(word, topn=len(total_tok)))))"
   ]
  },
  {
   "cell_type": "code",
   "execution_count": 34,
   "id": "8b2bf7d8",
   "metadata": {},
   "outputs": [],
   "source": [
    "sim_word_df = pd.DataFrame(np.transpose(sim_words), columns=word_list)\n",
    "sim_word_df.to_csv(os.path.join(data_path, 'sim_words_reddit_7y.csv'), index=False)"
   ]
  },
  {
   "cell_type": "code",
   "execution_count": null,
   "id": "83db9f22",
   "metadata": {},
   "outputs": [],
   "source": []
  }
 ],
 "metadata": {
  "kernelspec": {
   "display_name": "Python 3 (ipykernel)",
   "language": "python",
   "name": "python3"
  },
  "language_info": {
   "codemirror_mode": {
    "name": "ipython",
    "version": 3
   },
   "file_extension": ".py",
   "mimetype": "text/x-python",
   "name": "python",
   "nbconvert_exporter": "python",
   "pygments_lexer": "ipython3",
   "version": "3.9.13"
  }
 },
 "nbformat": 4,
 "nbformat_minor": 5
}
