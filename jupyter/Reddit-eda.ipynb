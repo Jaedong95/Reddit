{
 "cells": [
  {
   "cell_type": "code",
   "execution_count": 1,
   "id": "6e43e7d0",
   "metadata": {},
   "outputs": [],
   "source": [
    "import json\n",
    "import os \n",
    "import pandas as pd \n",
    "import nltk\n",
    "import numpy as np\n",
    "import matplotlib.pyplot as plt \n",
    "import fasttext\n",
    "from nltk.tokenize import word_tokenize\n",
    "from pprint import pprint"
   ]
  },
  {
   "cell_type": "code",
   "execution_count": 2,
   "id": "b30089e5",
   "metadata": {},
   "outputs": [],
   "source": [
    "default_path = '/home/lamda_00/Data-related'\n",
    "data_path = os.path.join(default_path, 'data', 'Reddit_origin')\n",
    "save_path = os.path.join(default_path, 'data', 'Reddit_processed')\n",
    "model_path = os.path.join(default_path, 'model')"
   ]
  },
  {
   "cell_type": "code",
   "execution_count": 3,
   "id": "32313f95",
   "metadata": {},
   "outputs": [],
   "source": [
    "file_list = os.listdir(data_path)\n",
    "reddit_rs = [file for file in file_list if 'RS' in file and '2010' in file]\n",
    "reddit_rs = reddit_rs[:1]"
   ]
  },
  {
   "cell_type": "code",
   "execution_count": 35,
   "id": "30e8222c",
   "metadata": {},
   "outputs": [
    {
     "name": "stderr",
     "output_type": "stream",
     "text": [
      "IOPub data rate exceeded.\n",
      "The notebook server will temporarily stop sending output\n",
      "to the client in order to avoid crashing it.\n",
      "To change this limit, set the config variable\n",
      "`--NotebookApp.iopub_data_rate_limit`.\n",
      "\n",
      "Current values:\n",
      "NotebookApp.iopub_data_rate_limit=1000000.0 (bytes/sec)\n",
      "NotebookApp.rate_limit_window=3.0 (secs)\n",
      "\n"
     ]
    }
   ],
   "source": [
    "for reddit in reddit_rs:\n",
    "    file = open(os.path.join(data_path, reddit), \"r\")\n",
    "    data = file.readlines()\n",
    "    print(data)"
   ]
  },
  {
   "cell_type": "code",
   "execution_count": 29,
   "id": "156fc37b",
   "metadata": {},
   "outputs": [
    {
     "data": {
      "text/plain": [
       "['RS_2014-01']"
      ]
     },
     "execution_count": 29,
     "metadata": {},
     "output_type": "execute_result"
    }
   ],
   "source": [
    "reddit_rs"
   ]
  },
  {
   "cell_type": "code",
   "execution_count": 31,
   "id": "145030c2",
   "metadata": {
    "scrolled": true
   },
   "outputs": [
    {
     "data": {
      "text/plain": [
       "'{\"author_flair_css_class\":null,\"num_comments\":19,\"saved\":false,\"over_18\":false,\"name\":\"t3_1u4kuf\",\"link_flair_css_class\":null,\"gilded\":0,\"archived\":true,\"id\":\"1u4kuf\",\"from\":null,\"author\":\"DASHLICKER1991\",\"is_self\":false,\"from_id\":null,\"url\":\"http://fc05.deviantart.net/fs71/f/2013/001/5/1/rainbow_dash_wishes_you_a_happy_new_year_by_lanetafr-d5q1hho.png\",\"secure_media\":null,\"from_kind\":null,\"created\":1388534400,\"subreddit_id\":\"t5_2yy7r\",\"stickied\":false,\"score\":3,\"edited\":false,\"quarantine\":false,\"created_utc\":\"1388534400\",\"author_flair_text\":null,\"media_embed\":{},\"subreddit\":\"DASHLICKING\",\"domain\":\"fc05.deviantart.net\",\"hide_score\":false,\"downs\":0,\"thumbnail\":\"http://e.thumbs.redditmedia.com/2x-WMwZgHAdbPHb4.jpg\",\"distinguished\":null,\"title\":\"HAPPY BLUE YEAR!\",\"secure_media_embed\":{},\"link_flair_text\":null,\"permalink\":\"/r/DASHLICKING/comments/1u4kuf/happy_blue_year/\",\"selftext\":\"\",\"media\":null,\"ups\":3,\"retrieved_on\":1441978093}\\n'"
      ]
     },
     "execution_count": 31,
     "metadata": {},
     "output_type": "execute_result"
    }
   ],
   "source": [
    "file = open(os.path.join(data_path, reddit_rs[0]), 'r')\n",
    "file.readlines()[0]"
   ]
  },
  {
   "cell_type": "code",
   "execution_count": 36,
   "id": "0b854376",
   "metadata": {},
   "outputs": [
    {
     "name": "stderr",
     "output_type": "stream",
     "text": [
      "IOPub data rate exceeded.\n",
      "The notebook server will temporarily stop sending output\n",
      "to the client in order to avoid crashing it.\n",
      "To change this limit, set the config variable\n",
      "`--NotebookApp.iopub_data_rate_limit`.\n",
      "\n",
      "Current values:\n",
      "NotebookApp.iopub_data_rate_limit=1000000.0 (bytes/sec)\n",
      "NotebookApp.rate_limit_window=3.0 (secs)\n",
      "\n"
     ]
    }
   ],
   "source": [
    "depression_rs_post = []\n",
    "err = []\n",
    "\n",
    "for reddit in reddit_rs:\n",
    "    file = open(os.path.join(data_path, reddit), \"r\")\n",
    "    data = file.readlines()\n",
    "    print(data)\n",
    "    \n",
    "    for content in data:\n",
    "        try:\n",
    "            json_file = json.loads(content)\n",
    "        except:\n",
    "            err.append(content)\n",
    "            continue\n",
    "            # print(content)\n",
    "        # print(json_file)\n",
    "        # if (json_file['subreddit_id'] == 't5_2qqqf' or json_file['subreddit'] == 'mentalillness') and \\\n",
    "        # (json_file['selftext'] != '[deleted]' and 'http' not in json_file['selftext'] and json_file['selftext'] != ''):\n",
    "            depression_rs_post.append(json_file)"
   ]
  },
  {
   "cell_type": "code",
   "execution_count": 37,
   "id": "b3b21d2a",
   "metadata": {},
   "outputs": [
    {
     "data": {
      "text/plain": [
       "0"
      ]
     },
     "execution_count": 37,
     "metadata": {},
     "output_type": "execute_result"
    }
   ],
   "source": [
    "len(depression_rs_post)"
   ]
  },
  {
   "cell_type": "code",
   "execution_count": 11,
   "id": "0cd39c91",
   "metadata": {},
   "outputs": [
    {
     "data": {
      "text/plain": [
       "['RC_2010-01',\n",
       " 'RC_2010-02',\n",
       " 'RC_2010-03',\n",
       " 'RC_2010-04',\n",
       " 'RC_2010-05',\n",
       " 'RC_2010-06',\n",
       " 'RC_2010-07',\n",
       " 'RC_2010-08',\n",
       " 'RC_2010-09',\n",
       " 'RC_2010-10',\n",
       " 'RC_2010-11',\n",
       " 'RC_2010-12']"
      ]
     },
     "execution_count": 11,
     "metadata": {},
     "output_type": "execute_result"
    }
   ],
   "source": [
    "file_list = os.listdir(data_path)\n",
    "reddit_rc = [file for file in file_list if 'RC' in file and '2010' in file]\n",
    "reddit_rc"
   ]
  },
  {
   "cell_type": "code",
   "execution_count": 12,
   "id": "584edada",
   "metadata": {},
   "outputs": [],
   "source": [
    "depression_comment = []\n",
    "\n",
    "for reddit in reddit_rc:\n",
    "    file = open(os.path.join(data_path, reddit), \"r\")\n",
    "    data = file.readlines()\n",
    "    for content in data:\n",
    "        json_file = json.loads(content)\n",
    "        if (json_file['subreddit'] == 'depression' or json_file['subreddit'] == 'mentalillness') and json_file['body'] != '[deleted]':\n",
    "            depression_comment.append(json_file)"
   ]
  },
  {
   "cell_type": "code",
   "execution_count": 21,
   "id": "10dbd95e",
   "metadata": {},
   "outputs": [],
   "source": [
    "for comment in depression_comment:\n",
    "    if 'akj8u' in comment['id']:\n",
    "        print(comment['id'])"
   ]
  },
  {
   "cell_type": "code",
   "execution_count": 14,
   "id": "7beab54b",
   "metadata": {},
   "outputs": [
    {
     "data": {
      "text/plain": [
       "{'score_hidden': False,\n",
       " 'link_id': 't3_akheu',\n",
       " 'subreddit': 'depression',\n",
       " 'author': 'newacct2010',\n",
       " 'edited': False,\n",
       " 'gilded': 0,\n",
       " 'created_utc': '1262340959',\n",
       " 'author_flair_css_class': None,\n",
       " 'score': 2,\n",
       " 'downs': 0,\n",
       " 'archived': True,\n",
       " 'parent_id': 't3_akheu',\n",
       " 'ups': 2,\n",
       " 'distinguished': None,\n",
       " 'author_flair_text': None,\n",
       " 'subreddit_id': 't5_2qqqf',\n",
       " 'body': \"I realized now that there was probably a depression subreddit, there is a subreddit for everything.. so i figured I'd ask you guys since you would likely be the most knowledgeable on the subject.\",\n",
       " 'retrieved_on': 1426171823,\n",
       " 'name': 't1_c0i1mx6',\n",
       " 'id': 'c0i1mx6',\n",
       " 'controversiality': 0}"
      ]
     },
     "execution_count": 14,
     "metadata": {},
     "output_type": "execute_result"
    }
   ],
   "source": [
    "depression_comment[0]"
   ]
  },
  {
   "cell_type": "code",
   "execution_count": 7,
   "id": "e4b37103",
   "metadata": {},
   "outputs": [
    {
     "data": {
      "text/html": [
       "<div>\n",
       "<style scoped>\n",
       "    .dataframe tbody tr th:only-of-type {\n",
       "        vertical-align: middle;\n",
       "    }\n",
       "\n",
       "    .dataframe tbody tr th {\n",
       "        vertical-align: top;\n",
       "    }\n",
       "\n",
       "    .dataframe thead th {\n",
       "        text-align: right;\n",
       "    }\n",
       "</style>\n",
       "<table border=\"1\" class=\"dataframe\">\n",
       "  <thead>\n",
       "    <tr style=\"text-align: right;\">\n",
       "      <th></th>\n",
       "      <th>id</th>\n",
       "      <th>subreddit</th>\n",
       "      <th>author</th>\n",
       "      <th>comment</th>\n",
       "      <th>ups</th>\n",
       "      <th>downs</th>\n",
       "      <th>score</th>\n",
       "      <th>created_utc</th>\n",
       "      <th>token_len</th>\n",
       "    </tr>\n",
       "  </thead>\n",
       "  <tbody>\n",
       "    <tr>\n",
       "      <th>0</th>\n",
       "      <td>t3_akj8u</td>\n",
       "      <td>depression</td>\n",
       "      <td>aenea</td>\n",
       "      <td>i know that there is some research going on ab...</td>\n",
       "      <td>2.0</td>\n",
       "      <td>0.0</td>\n",
       "      <td>2.0</td>\n",
       "      <td>1.262363e+09</td>\n",
       "      <td>218</td>\n",
       "    </tr>\n",
       "    <tr>\n",
       "      <th>1</th>\n",
       "      <td>t3_akj8u</td>\n",
       "      <td>depression</td>\n",
       "      <td>SarahC</td>\n",
       "      <td>the drug in its current form is addictive phys...</td>\n",
       "      <td>2.0</td>\n",
       "      <td>0.0</td>\n",
       "      <td>2.0</td>\n",
       "      <td>1.262364e+09</td>\n",
       "      <td>197</td>\n",
       "    </tr>\n",
       "    <tr>\n",
       "      <th>2</th>\n",
       "      <td>t3_akj8u</td>\n",
       "      <td>depression</td>\n",
       "      <td>SarahC</td>\n",
       "      <td>i'm not sure i'd be allowed to give info like ...</td>\n",
       "      <td>2.0</td>\n",
       "      <td>0.0</td>\n",
       "      <td>2.0</td>\n",
       "      <td>1.262364e+09</td>\n",
       "      <td>243</td>\n",
       "    </tr>\n",
       "    <tr>\n",
       "      <th>3</th>\n",
       "      <td>t3_akj8u</td>\n",
       "      <td>depression</td>\n",
       "      <td>SarahC</td>\n",
       "      <td>i've been extremely careful with the addiction...</td>\n",
       "      <td>1.0</td>\n",
       "      <td>0.0</td>\n",
       "      <td>1.0</td>\n",
       "      <td>1.262365e+09</td>\n",
       "      <td>470</td>\n",
       "    </tr>\n",
       "    <tr>\n",
       "      <th>4</th>\n",
       "      <td>t3_akj8u</td>\n",
       "      <td>depression</td>\n",
       "      <td>lebalove</td>\n",
       "      <td>i'm a current/former opiate addict. currently ...</td>\n",
       "      <td>6.0</td>\n",
       "      <td>0.0</td>\n",
       "      <td>6.0</td>\n",
       "      <td>1.262368e+09</td>\n",
       "      <td>348</td>\n",
       "    </tr>\n",
       "  </tbody>\n",
       "</table>\n",
       "</div>"
      ],
      "text/plain": [
       "         id   subreddit    author  \\\n",
       "0  t3_akj8u  depression     aenea   \n",
       "1  t3_akj8u  depression    SarahC   \n",
       "2  t3_akj8u  depression    SarahC   \n",
       "3  t3_akj8u  depression    SarahC   \n",
       "4  t3_akj8u  depression  lebalove   \n",
       "\n",
       "                                             comment  ups  downs  score  \\\n",
       "0  i know that there is some research going on ab...  2.0    0.0    2.0   \n",
       "1  the drug in its current form is addictive phys...  2.0    0.0    2.0   \n",
       "2  i'm not sure i'd be allowed to give info like ...  2.0    0.0    2.0   \n",
       "3  i've been extremely careful with the addiction...  1.0    0.0    1.0   \n",
       "4  i'm a current/former opiate addict. currently ...  6.0    0.0    6.0   \n",
       "\n",
       "    created_utc  token_len  \n",
       "0  1.262363e+09        218  \n",
       "1  1.262364e+09        197  \n",
       "2  1.262364e+09        243  \n",
       "3  1.262365e+09        470  \n",
       "4  1.262368e+09        348  "
      ]
     },
     "execution_count": 7,
     "metadata": {},
     "output_type": "execute_result"
    }
   ],
   "source": [
    "file = pd.read_csv(os.path.join(save_path, 'dataset_01_rc.csv'))\n",
    "file.head()"
   ]
  },
  {
   "cell_type": "code",
   "execution_count": 7,
   "id": "af9dd757",
   "metadata": {},
   "outputs": [
    {
     "data": {
      "text/html": [
       "<div>\n",
       "<style scoped>\n",
       "    .dataframe tbody tr th:only-of-type {\n",
       "        vertical-align: middle;\n",
       "    }\n",
       "\n",
       "    .dataframe tbody tr th {\n",
       "        vertical-align: top;\n",
       "    }\n",
       "\n",
       "    .dataframe thead th {\n",
       "        text-align: right;\n",
       "    }\n",
       "</style>\n",
       "<table border=\"1\" class=\"dataframe\">\n",
       "  <thead>\n",
       "    <tr style=\"text-align: right;\">\n",
       "      <th></th>\n",
       "      <th>id</th>\n",
       "      <th>type</th>\n",
       "      <th>text</th>\n",
       "      <th>label</th>\n",
       "    </tr>\n",
       "  </thead>\n",
       "  <tbody>\n",
       "    <tr>\n",
       "      <th>65</th>\n",
       "      <td>amruc</td>\n",
       "      <td>post</td>\n",
       "      <td>right</td>\n",
       "      <td>0</td>\n",
       "    </tr>\n",
       "    <tr>\n",
       "      <th>268</th>\n",
       "      <td>aycre</td>\n",
       "      <td>post</td>\n",
       "      <td>\"</td>\n",
       "      <td>0</td>\n",
       "    </tr>\n",
       "    <tr>\n",
       "      <th>378</th>\n",
       "      <td>b5c96</td>\n",
       "      <td>post</td>\n",
       "      <td>meh</td>\n",
       "      <td>0</td>\n",
       "    </tr>\n",
       "    <tr>\n",
       "      <th>544</th>\n",
       "      <td>baz3u</td>\n",
       "      <td>post</td>\n",
       "      <td>s</td>\n",
       "      <td>0</td>\n",
       "    </tr>\n",
       "    <tr>\n",
       "      <th>760</th>\n",
       "      <td>bhhc2</td>\n",
       "      <td>post</td>\n",
       "      <td>again</td>\n",
       "      <td>0</td>\n",
       "    </tr>\n",
       "    <tr>\n",
       "      <th>...</th>\n",
       "      <td>...</td>\n",
       "      <td>...</td>\n",
       "      <td>...</td>\n",
       "      <td>...</td>\n",
       "    </tr>\n",
       "    <tr>\n",
       "      <th>829009</th>\n",
       "      <td>t3_15qn0a</td>\n",
       "      <td>comment</td>\n",
       "      <td>7</td>\n",
       "      <td>0</td>\n",
       "    </tr>\n",
       "    <tr>\n",
       "      <th>829011</th>\n",
       "      <td>t3_15qn0a</td>\n",
       "      <td>comment</td>\n",
       "      <td>8</td>\n",
       "      <td>0</td>\n",
       "    </tr>\n",
       "    <tr>\n",
       "      <th>829013</th>\n",
       "      <td>t3_15qn0a</td>\n",
       "      <td>comment</td>\n",
       "      <td>9</td>\n",
       "      <td>0</td>\n",
       "    </tr>\n",
       "    <tr>\n",
       "      <th>829018</th>\n",
       "      <td>t3_15qn0a</td>\n",
       "      <td>comment</td>\n",
       "      <td>no</td>\n",
       "      <td>0</td>\n",
       "    </tr>\n",
       "    <tr>\n",
       "      <th>829029</th>\n",
       "      <td>t3_15qwvr</td>\n",
       "      <td>comment</td>\n",
       "      <td>:)</td>\n",
       "      <td>0</td>\n",
       "    </tr>\n",
       "  </tbody>\n",
       "</table>\n",
       "<p>17684 rows × 4 columns</p>\n",
       "</div>"
      ],
      "text/plain": [
       "               id     type   text  label\n",
       "65          amruc     post  right      0\n",
       "268         aycre     post      \"      0\n",
       "378         b5c96     post    meh      0\n",
       "544         baz3u     post      s      0\n",
       "760         bhhc2     post  again      0\n",
       "...           ...      ...    ...    ...\n",
       "829009  t3_15qn0a  comment      7      0\n",
       "829011  t3_15qn0a  comment      8      0\n",
       "829013  t3_15qn0a  comment      9      0\n",
       "829018  t3_15qn0a  comment     no      0\n",
       "829029  t3_15qwvr  comment     :)      0\n",
       "\n",
       "[17684 rows x 4 columns]"
      ]
     },
     "execution_count": 7,
     "metadata": {},
     "output_type": "execute_result"
    }
   ],
   "source": [
    "file[file.text.str.len() <= 5]"
   ]
  },
  {
   "cell_type": "markdown",
   "id": "ba5ec472",
   "metadata": {},
   "source": [
    "### 2. Dataset 1 EDA "
   ]
  },
  {
   "cell_type": "code",
   "execution_count": 30,
   "id": "c20be3f1",
   "metadata": {},
   "outputs": [],
   "source": [
    "data1_rs = pd.read_csv(os.path.join(save_path, 'dataset_01_rs.csv'))\n",
    "data1_rc = pd.read_csv(os.path.join(save_path, 'dataset_01_rc.csv'))"
   ]
  },
  {
   "cell_type": "code",
   "execution_count": 31,
   "id": "0aebc9a9",
   "metadata": {},
   "outputs": [
    {
     "name": "stdout",
     "output_type": "stream",
     "text": [
      "4624\n",
      "12648\n",
      "28710\n"
     ]
    }
   ],
   "source": [
    "print(data1_rs.title.str.contains('depress').sum())\n",
    "print(data1_rs.context.str.contains(\"depress\").sum())\n",
    "print(data1_rc.comment.str.contains(\"depress\").sum())"
   ]
  },
  {
   "cell_type": "code",
   "execution_count": null,
   "id": "b3756b1d",
   "metadata": {},
   "outputs": [],
   "source": [
    "data"
   ]
  },
  {
   "cell_type": "markdown",
   "id": "7bc6d5f3",
   "metadata": {},
   "source": [
    "### 3. Dataset 2 EDA"
   ]
  },
  {
   "cell_type": "code",
   "execution_count": 7,
   "id": "4634769b",
   "metadata": {},
   "outputs": [],
   "source": [
    "data = pd.read_csv(os.path.join(save_path, 'dataset2.csv'))"
   ]
  },
  {
   "cell_type": "code",
   "execution_count": 11,
   "id": "5f060ec2",
   "metadata": {},
   "outputs": [
    {
     "data": {
      "text/plain": [
       "52076"
      ]
     },
     "execution_count": 11,
     "metadata": {},
     "output_type": "execute_result"
    }
   ],
   "source": [
    "data.text.str.contains('depress').sum()"
   ]
  },
  {
   "cell_type": "code",
   "execution_count": 26,
   "id": "62561b61",
   "metadata": {},
   "outputs": [
    {
     "data": {
      "text/plain": [
       "677"
      ]
     },
     "execution_count": 26,
     "metadata": {},
     "output_type": "execute_result"
    }
   ],
   "source": [
    "data.text.str.contains('cognitive').sum()"
   ]
  },
  {
   "cell_type": "code",
   "execution_count": null,
   "id": "2eefbdc7",
   "metadata": {},
   "outputs": [],
   "source": []
  }
 ],
 "metadata": {
  "kernelspec": {
   "display_name": "Python 3 (ipykernel)",
   "language": "python",
   "name": "python3"
  },
  "language_info": {
   "codemirror_mode": {
    "name": "ipython",
    "version": 3
   },
   "file_extension": ".py",
   "mimetype": "text/x-python",
   "name": "python",
   "nbconvert_exporter": "python",
   "pygments_lexer": "ipython3",
   "version": "3.9.13"
  }
 },
 "nbformat": 4,
 "nbformat_minor": 5
}
