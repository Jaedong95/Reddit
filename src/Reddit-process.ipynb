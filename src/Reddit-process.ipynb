{
 "cells": [
  {
   "cell_type": "markdown",
   "id": "6677fb47",
   "metadata": {},
   "source": [
    "### 1. Default Setting"
   ]
  },
  {
   "cell_type": "code",
   "execution_count": 1,
   "id": "7ff2324d",
   "metadata": {},
   "outputs": [],
   "source": [
    "import json\n",
    "import os \n",
    "import pandas as pd \n",
    "from pprint import pprint"
   ]
  },
  {
   "cell_type": "code",
   "execution_count": 2,
   "id": "acb8f0c0",
   "metadata": {},
   "outputs": [],
   "source": [
    "default_path = '/home/lamda_00/Data-related'\n",
    "data_path = os.path.join(default_path, 'data', 'Reddit_origin')\n",
    "save_path = os.path.join(default_path, 'data', 'Reddit_processed')"
   ]
  },
  {
   "cell_type": "markdown",
   "id": "a84a9283",
   "metadata": {},
   "source": [
    "### 2. RS data"
   ]
  },
  {
   "cell_type": "raw",
   "id": "fd1c39f5",
   "metadata": {},
   "source": [
    "# RS Crawling object \n",
    "\n",
    "print(f\"subreddit: {json_file['subreddit']}\")    # subreddit name   ex) promos \n",
    "print(f\"author: {json_file['author']}\")   \n",
    "print(f\"submission id: {json_file['id']}\")   # submission id   - comment와 연결 \n",
    "print(f\"title: {json_file['title']}\")\n",
    "print(f\"content: {json_file['selftext']}\")\n",
    "print(f\"url: {json_file['url']}\")\n",
    "print(f\"num comments: {json_file['num_comments']}\")\n",
    "print(f\"num crossposts: {json_file['num_crossposts']}\")\n",
    "print(f'score: {json_file['score']}\")\n",
    "print(f\"create time: {json_file['created_utc']}\")"
   ]
  },
  {
   "cell_type": "code",
   "execution_count": 7,
   "id": "90da779a",
   "metadata": {},
   "outputs": [
    {
     "data": {
      "text/plain": [
       "['RS_2013-01',\n",
       " 'RS_2013-02',\n",
       " 'RS_2013-03',\n",
       " 'RS_2013-04',\n",
       " 'RS_2013-05',\n",
       " 'RS_2013-06',\n",
       " 'RS_2013-07',\n",
       " 'RS_2013-08',\n",
       " 'RS_2013-09',\n",
       " 'RS_2013-10',\n",
       " 'RS_2013-11',\n",
       " 'RS_2013-12']"
      ]
     },
     "execution_count": 7,
     "metadata": {},
     "output_type": "execute_result"
    }
   ],
   "source": [
    "file_list = os.listdir(data_path)\n",
    "reddit_2013 = [file for file in file_list if 'RS' in file and '2013' in file]\n",
    "reddit_2013"
   ]
  },
  {
   "cell_type": "raw",
   "id": "f79c9ec4",
   "metadata": {},
   "source": [
    "[2010]\n",
    "1. json_file['subreddit'] == 'depression' or json_file['subreddit'] == 'mentalillness' and\n",
    "2. json_file['selftext'] != '[deleted]' and json_file['num_crossposts'] == 0 and\n",
    "3.'http' not in json_file['selftext'] and json_file['selftext'] != ''\n",
    "\n",
    "[2011]\n",
    "1. json_file['subreddit'] == 'depression' or json_file['subreddit'] == 'mentalillness' and \n",
    "2. json_file['selftext'] != '[deleted]' and 'http' not in json_file['selftext'] and json_file['selftext'] != '' "
   ]
  },
  {
   "cell_type": "code",
   "execution_count": 5,
   "id": "557eefd7",
   "metadata": {},
   "outputs": [
    {
     "data": {
      "text/plain": [
       "'/home/lamda_00/Data-related/data/Reddit_origin'"
      ]
     },
     "execution_count": 5,
     "metadata": {},
     "output_type": "execute_result"
    }
   ],
   "source": [
    "data_path"
   ]
  },
  {
   "cell_type": "code",
   "execution_count": 8,
   "id": "074574f8",
   "metadata": {},
   "outputs": [],
   "source": [
    "file = open(os.path.join(data_path, reddit_2013[0]), 'r')"
   ]
  },
  {
   "cell_type": "code",
   "execution_count": 9,
   "id": "41bd6931",
   "metadata": {},
   "outputs": [
    {
     "data": {
      "text/plain": [
       "'{\"selftext_html\":null,\"score\":0,\"gilded\":0,\"author\":\"ruah12\",\"user_reports\":[],\"domain\":\"i.imgur.com\",\"num_comments\":0,\"mod_reports\":[],\"downs\":0,\"selftext\":\"\",\"author_flair_css_class\":null,\"created_utc\":1357084797,\"url\":\"http://i.imgur.com/UWiGP.jpg\",\"subreddit_id\":\"t5_2s7tt\",\"retrieved_on\":1413239892,\"distinguished\":null,\"link_flair_text\":null,\"subreddit\":\"AdviceAnimals\",\"title\":\"Evil bear, is evil!!!\",\"banned_by\":null,\"link_flair_css_class\":null,\"author_flair_text\":null,\"secure_media\":null,\"thumbnail\":\"default\",\"permalink\":\"/r/AdviceAnimals/comments/15sn7l/evil_bear_is_evil/\",\"media_embed\":{},\"stickied\":false,\"over_18\":false,\"ups\":0,\"report_reasons\":null,\"media\":null,\"secure_media_embed\":{},\"edited\":false,\"is_self\":false,\"id\":\"15sn7l\"}\\n'"
      ]
     },
     "execution_count": 9,
     "metadata": {},
     "output_type": "execute_result"
    }
   ],
   "source": [
    "file.readlines()[1]"
   ]
  },
  {
   "cell_type": "code",
   "execution_count": 10,
   "id": "ee30a2a4",
   "metadata": {},
   "outputs": [
    {
     "ename": "KeyboardInterrupt",
     "evalue": "",
     "output_type": "error",
     "traceback": [
      "\u001b[0;31m---------------------------------------------------------------------------\u001b[0m",
      "\u001b[0;31mKeyboardInterrupt\u001b[0m                         Traceback (most recent call last)",
      "Cell \u001b[0;32mIn [10], line 16\u001b[0m\n\u001b[1;32m     14\u001b[0m     \u001b[38;5;28;01mcontinue\u001b[39;00m\n\u001b[1;32m     15\u001b[0m     \u001b[38;5;66;03m# print(content)\u001b[39;00m\n\u001b[0;32m---> 16\u001b[0m \u001b[38;5;28;01mif\u001b[39;00m (json_file[\u001b[38;5;124m'\u001b[39m\u001b[38;5;124msubreddit\u001b[39m\u001b[38;5;124m'\u001b[39m] \u001b[38;5;241m==\u001b[39m \u001b[38;5;124m'\u001b[39m\u001b[38;5;124mdepression\u001b[39m\u001b[38;5;124m'\u001b[39m \u001b[38;5;129;01mor\u001b[39;00m json_file[\u001b[38;5;124m'\u001b[39m\u001b[38;5;124msubreddit\u001b[39m\u001b[38;5;124m'\u001b[39m] \u001b[38;5;241m==\u001b[39m \u001b[38;5;124m'\u001b[39m\u001b[38;5;124mmentalillness\u001b[39m\u001b[38;5;124m'\u001b[39m) \u001b[38;5;129;01mand\u001b[39;00m \\\n\u001b[1;32m     17\u001b[0m (json_file[\u001b[38;5;124m'\u001b[39m\u001b[38;5;124mselftext\u001b[39m\u001b[38;5;124m'\u001b[39m] \u001b[38;5;241m!=\u001b[39m \u001b[38;5;124m'\u001b[39m\u001b[38;5;124m[deleted]\u001b[39m\u001b[38;5;124m'\u001b[39m \u001b[38;5;129;01mand\u001b[39;00m \u001b[38;5;124m'\u001b[39m\u001b[38;5;124mhttp\u001b[39m\u001b[38;5;124m'\u001b[39m \u001b[38;5;129;01mnot\u001b[39;00m \u001b[38;5;129;01min\u001b[39;00m json_file[\u001b[38;5;124m'\u001b[39m\u001b[38;5;124mselftext\u001b[39m\u001b[38;5;124m'\u001b[39m] \u001b[38;5;129;01mand\u001b[39;00m json_file[\u001b[38;5;124m'\u001b[39m\u001b[38;5;124mselftext\u001b[39m\u001b[38;5;124m'\u001b[39m] \u001b[38;5;241m!=\u001b[39m \u001b[38;5;124m'\u001b[39m\u001b[38;5;124m'\u001b[39m):\n\u001b[1;32m     18\u001b[0m     depression_rs_post\u001b[38;5;241m.\u001b[39mappend(json_file)\n",
      "\u001b[0;31mKeyboardInterrupt\u001b[0m: "
     ]
    }
   ],
   "source": [
    "depression_rs_post = []\n",
    "err = []\n",
    "\n",
    "for reddit in reddit_2013:\n",
    "    file = open(os.path.join(data_path, reddit), \"r\")\n",
    "    data = file.readlines()\n",
    "    # print(data)\n",
    "    \n",
    "    for content in data:\n",
    "        try:\n",
    "            json_file = json.loads(content)\n",
    "        except:\n",
    "            err.append(content)\n",
    "            continue\n",
    "            # print(content)\n",
    "        if (json_file['subreddit'] == 'depression' or json_file['subreddit'] == 'mentalillness') and \\\n",
    "        (json_file['selftext'] != '[deleted]' and 'http' not in json_file['selftext'] and json_file['selftext'] != ''):\n",
    "            depression_rs_post.append(json_file)"
   ]
  },
  {
   "cell_type": "code",
   "execution_count": 29,
   "id": "39885f28",
   "metadata": {
    "scrolled": true
   },
   "outputs": [
    {
     "data": {
      "text/plain": [
       "22174"
      ]
     },
     "execution_count": 29,
     "metadata": {},
     "output_type": "execute_result"
    }
   ],
   "source": [
    "len(depression_rs_post)"
   ]
  },
  {
   "cell_type": "code",
   "execution_count": 31,
   "id": "dfd9dc7f",
   "metadata": {},
   "outputs": [],
   "source": [
    "Depression_rs_2012 = []\n",
    "\n",
    "for post in depression_rs_post:\n",
    "    Depression_rs_2012.append([post['id'], post['subreddit'], post['author'], post['title'], post['selftext'], \\\n",
    "                            post['num_comments'], post['score'], post['url'], post['created_utc']])"
   ]
  },
  {
   "cell_type": "code",
   "execution_count": 32,
   "id": "72ea48fe",
   "metadata": {},
   "outputs": [],
   "source": [
    "columns = ['id', 'subreddit', 'author', 'title', 'context', 'comments', 'score', 'url', 'created_utc']"
   ]
  },
  {
   "cell_type": "code",
   "execution_count": 33,
   "id": "371874ca",
   "metadata": {},
   "outputs": [
    {
     "data": {
      "text/html": [
       "<div>\n",
       "<style scoped>\n",
       "    .dataframe tbody tr th:only-of-type {\n",
       "        vertical-align: middle;\n",
       "    }\n",
       "\n",
       "    .dataframe tbody tr th {\n",
       "        vertical-align: top;\n",
       "    }\n",
       "\n",
       "    .dataframe thead th {\n",
       "        text-align: right;\n",
       "    }\n",
       "</style>\n",
       "<table border=\"1\" class=\"dataframe\">\n",
       "  <thead>\n",
       "    <tr style=\"text-align: right;\">\n",
       "      <th></th>\n",
       "      <th>id</th>\n",
       "      <th>subreddit</th>\n",
       "      <th>author</th>\n",
       "      <th>title</th>\n",
       "      <th>context</th>\n",
       "      <th>comments</th>\n",
       "      <th>score</th>\n",
       "      <th>url</th>\n",
       "      <th>created_utc</th>\n",
       "    </tr>\n",
       "  </thead>\n",
       "  <tbody>\n",
       "    <tr>\n",
       "      <th>0</th>\n",
       "      <td>nz1wp</td>\n",
       "      <td>depression</td>\n",
       "      <td>[deleted]</td>\n",
       "      <td>Looks like another failed relationship, dont t...</td>\n",
       "      <td>Its not looking good for a girl I thought I re...</td>\n",
       "      <td>1</td>\n",
       "      <td>1</td>\n",
       "      <td>http://www.reddit.com/r/depression/comments/nz...</td>\n",
       "      <td>1325460008</td>\n",
       "    </tr>\n",
       "    <tr>\n",
       "      <th>1</th>\n",
       "      <td>nyzz6</td>\n",
       "      <td>depression</td>\n",
       "      <td>[deleted]</td>\n",
       "      <td>I need help, where do I get it from?</td>\n",
       "      <td>I've suffered from some degree of depression f...</td>\n",
       "      <td>3</td>\n",
       "      <td>1</td>\n",
       "      <td>http://www.reddit.com/r/depression/comments/ny...</td>\n",
       "      <td>1325457004</td>\n",
       "    </tr>\n",
       "    <tr>\n",
       "      <th>2</th>\n",
       "      <td>nyxx0</td>\n",
       "      <td>depression</td>\n",
       "      <td>[deleted]</td>\n",
       "      <td>Its curious as to how over-thinking tends to l...</td>\n",
       "      <td>just a thought i'd like to share</td>\n",
       "      <td>57</td>\n",
       "      <td>115</td>\n",
       "      <td>http://www.reddit.com/r/depression/comments/ny...</td>\n",
       "      <td>1325453890</td>\n",
       "    </tr>\n",
       "    <tr>\n",
       "      <th>3</th>\n",
       "      <td>nyxj5</td>\n",
       "      <td>depression</td>\n",
       "      <td>PepperMarley420</td>\n",
       "      <td>I have to be honest.</td>\n",
       "      <td>I've been depressed many times throughout my l...</td>\n",
       "      <td>13</td>\n",
       "      <td>6</td>\n",
       "      <td>http://www.reddit.com/r/depression/comments/ny...</td>\n",
       "      <td>1325453300</td>\n",
       "    </tr>\n",
       "    <tr>\n",
       "      <th>4</th>\n",
       "      <td>nyxfd</td>\n",
       "      <td>depression</td>\n",
       "      <td>Lonelymetta</td>\n",
       "      <td>This new years was a three year anniversary of...</td>\n",
       "      <td>I have been alone the past three new years and...</td>\n",
       "      <td>6</td>\n",
       "      <td>7</td>\n",
       "      <td>http://www.reddit.com/r/depression/comments/ny...</td>\n",
       "      <td>1325453146</td>\n",
       "    </tr>\n",
       "    <tr>\n",
       "      <th>...</th>\n",
       "      <td>...</td>\n",
       "      <td>...</td>\n",
       "      <td>...</td>\n",
       "      <td>...</td>\n",
       "      <td>...</td>\n",
       "      <td>...</td>\n",
       "      <td>...</td>\n",
       "      <td>...</td>\n",
       "      <td>...</td>\n",
       "    </tr>\n",
       "    <tr>\n",
       "      <th>22169</th>\n",
       "      <td>15p4fw</td>\n",
       "      <td>depression</td>\n",
       "      <td>Diamond1998</td>\n",
       "      <td>I don't even know what to think anymore... (no...</td>\n",
       "      <td>So let's start off with the usual sob story. I...</td>\n",
       "      <td>14</td>\n",
       "      <td>5</td>\n",
       "      <td>http://www.reddit.com/r/depression/comments/15...</td>\n",
       "      <td>1356914213</td>\n",
       "    </tr>\n",
       "    <tr>\n",
       "      <th>22170</th>\n",
       "      <td>15p49e</td>\n",
       "      <td>depression</td>\n",
       "      <td>[deleted]</td>\n",
       "      <td>My depression came back after a few years of f...</td>\n",
       "      <td>I went to my doctor and told her what I was fe...</td>\n",
       "      <td>8</td>\n",
       "      <td>23</td>\n",
       "      <td>http://www.reddit.com/r/depression/comments/15...</td>\n",
       "      <td>1356914052</td>\n",
       "    </tr>\n",
       "    <tr>\n",
       "      <th>22171</th>\n",
       "      <td>15p3ua</td>\n",
       "      <td>depression</td>\n",
       "      <td>[deleted]</td>\n",
       "      <td>looking for advice</td>\n",
       "      <td>im 18 and still in highschool and am seriously...</td>\n",
       "      <td>2</td>\n",
       "      <td>7</td>\n",
       "      <td>http://www.reddit.com/r/depression/comments/15...</td>\n",
       "      <td>1356913630</td>\n",
       "    </tr>\n",
       "    <tr>\n",
       "      <th>22172</th>\n",
       "      <td>15p35o</td>\n",
       "      <td>depression</td>\n",
       "      <td>facetoface31</td>\n",
       "      <td>Can't stop crying and feeling miserable.</td>\n",
       "      <td>I am medicated for depression and having feel ...</td>\n",
       "      <td>0</td>\n",
       "      <td>3</td>\n",
       "      <td>http://www.reddit.com/r/depression/comments/15...</td>\n",
       "      <td>1356912907</td>\n",
       "    </tr>\n",
       "    <tr>\n",
       "      <th>22173</th>\n",
       "      <td>15p2ss</td>\n",
       "      <td>depression</td>\n",
       "      <td>MooMorris</td>\n",
       "      <td>Turned to sport to help with depression, but i...</td>\n",
       "      <td>Long story short, I've had depression for 10 y...</td>\n",
       "      <td>0</td>\n",
       "      <td>6</td>\n",
       "      <td>http://www.reddit.com/r/depression/comments/15...</td>\n",
       "      <td>1356912507</td>\n",
       "    </tr>\n",
       "  </tbody>\n",
       "</table>\n",
       "<p>22174 rows × 9 columns</p>\n",
       "</div>"
      ],
      "text/plain": [
       "           id   subreddit           author  \\\n",
       "0       nz1wp  depression        [deleted]   \n",
       "1       nyzz6  depression        [deleted]   \n",
       "2       nyxx0  depression        [deleted]   \n",
       "3       nyxj5  depression  PepperMarley420   \n",
       "4       nyxfd  depression      Lonelymetta   \n",
       "...       ...         ...              ...   \n",
       "22169  15p4fw  depression      Diamond1998   \n",
       "22170  15p49e  depression        [deleted]   \n",
       "22171  15p3ua  depression        [deleted]   \n",
       "22172  15p35o  depression     facetoface31   \n",
       "22173  15p2ss  depression        MooMorris   \n",
       "\n",
       "                                                   title  \\\n",
       "0      Looks like another failed relationship, dont t...   \n",
       "1                   I need help, where do I get it from?   \n",
       "2      Its curious as to how over-thinking tends to l...   \n",
       "3                                   I have to be honest.   \n",
       "4      This new years was a three year anniversary of...   \n",
       "...                                                  ...   \n",
       "22169  I don't even know what to think anymore... (no...   \n",
       "22170  My depression came back after a few years of f...   \n",
       "22171                                 looking for advice   \n",
       "22172           Can't stop crying and feeling miserable.   \n",
       "22173  Turned to sport to help with depression, but i...   \n",
       "\n",
       "                                                 context  comments  score  \\\n",
       "0      Its not looking good for a girl I thought I re...         1      1   \n",
       "1      I've suffered from some degree of depression f...         3      1   \n",
       "2                       just a thought i'd like to share        57    115   \n",
       "3      I've been depressed many times throughout my l...        13      6   \n",
       "4      I have been alone the past three new years and...         6      7   \n",
       "...                                                  ...       ...    ...   \n",
       "22169  So let's start off with the usual sob story. I...        14      5   \n",
       "22170  I went to my doctor and told her what I was fe...         8     23   \n",
       "22171  im 18 and still in highschool and am seriously...         2      7   \n",
       "22172  I am medicated for depression and having feel ...         0      3   \n",
       "22173  Long story short, I've had depression for 10 y...         0      6   \n",
       "\n",
       "                                                     url  created_utc  \n",
       "0      http://www.reddit.com/r/depression/comments/nz...   1325460008  \n",
       "1      http://www.reddit.com/r/depression/comments/ny...   1325457004  \n",
       "2      http://www.reddit.com/r/depression/comments/ny...   1325453890  \n",
       "3      http://www.reddit.com/r/depression/comments/ny...   1325453300  \n",
       "4      http://www.reddit.com/r/depression/comments/ny...   1325453146  \n",
       "...                                                  ...          ...  \n",
       "22169  http://www.reddit.com/r/depression/comments/15...   1356914213  \n",
       "22170  http://www.reddit.com/r/depression/comments/15...   1356914052  \n",
       "22171  http://www.reddit.com/r/depression/comments/15...   1356913630  \n",
       "22172  http://www.reddit.com/r/depression/comments/15...   1356912907  \n",
       "22173  http://www.reddit.com/r/depression/comments/15...   1356912507  \n",
       "\n",
       "[22174 rows x 9 columns]"
      ]
     },
     "execution_count": 33,
     "metadata": {},
     "output_type": "execute_result"
    }
   ],
   "source": [
    "dep_rs_2012 = pd.DataFrame(Depression_rs_2012, columns=columns)\n",
    "dep_rs_2012"
   ]
  },
  {
   "cell_type": "code",
   "execution_count": 35,
   "id": "55899a75",
   "metadata": {},
   "outputs": [],
   "source": [
    "dep_rs_2012.to_csv(os.path.join(save_path, 'dep_rs_2012.csv'), index=None)"
   ]
  },
  {
   "cell_type": "markdown",
   "id": "a2542f00",
   "metadata": {},
   "source": [
    "### 2. RC data"
   ]
  },
  {
   "cell_type": "code",
   "execution_count": 36,
   "id": "2a951cc3",
   "metadata": {},
   "outputs": [
    {
     "data": {
      "text/plain": [
       "['RC_2012-01',\n",
       " 'RC_2012-02',\n",
       " 'RC_2012-03',\n",
       " 'RC_2012-04',\n",
       " 'RC_2012-05',\n",
       " 'RC_2012-06',\n",
       " 'RC_2012-07',\n",
       " 'RC_2012-08',\n",
       " 'RC_2012-09',\n",
       " 'RC_2012-10',\n",
       " 'RC_2012-11',\n",
       " 'RC_2012-12']"
      ]
     },
     "execution_count": 36,
     "metadata": {},
     "output_type": "execute_result"
    }
   ],
   "source": [
    "file_list = os.listdir(data_path)\n",
    "reddit_2012 = [file for file in file_list if 'RC' in file and '2012' in file]\n",
    "reddit_2012"
   ]
  },
  {
   "cell_type": "raw",
   "id": "30857488",
   "metadata": {},
   "source": [
    "print(f\"author: {json_file['author']}\")    # subreddit name   ex) promos \n",
    "print(f\"body: {json_file['body']}\")   \n",
    "print(f\"subreddit: {json_file['subreddit']}\")\n",
    "print(f\"comment id: {json_file['id']}\")   # submission id   - comment와 연결 \n",
    "print(f\"created utc: {json_file['created_utc']}\")\n",
    "print(f\"ups: {json_file['ups']}\")\n",
    "print(f\"downs: {json_file['downs']}\")"
   ]
  },
  {
   "cell_type": "code",
   "execution_count": 37,
   "id": "f2f4399a",
   "metadata": {},
   "outputs": [],
   "source": [
    "depression_comment = []\n",
    "\n",
    "for reddit in reddit_2012:\n",
    "    file = open(os.path.join(data_path, reddit), \"r\")\n",
    "    data = file.readlines()\n",
    "    for content in data:\n",
    "        json_file = json.loads(content)\n",
    "        if (json_file['subreddit'] == 'depression' or json_file['subreddit'] == 'mentalillness') and json_file['body'] != '[deleted]':\n",
    "            depression_comment.append(json_file)"
   ]
  },
  {
   "cell_type": "code",
   "execution_count": 38,
   "id": "594f6dd5",
   "metadata": {},
   "outputs": [
    {
     "data": {
      "text/plain": [
       "150308"
      ]
     },
     "execution_count": 38,
     "metadata": {},
     "output_type": "execute_result"
    }
   ],
   "source": [
    "len(depression_comment)"
   ]
  },
  {
   "cell_type": "code",
   "execution_count": 39,
   "id": "82a01653",
   "metadata": {
    "scrolled": true
   },
   "outputs": [],
   "source": [
    "columns = ['id', 'subreddit', 'author', 'comment', 'ups', 'downs', 'score', 'created_utc']"
   ]
  },
  {
   "cell_type": "code",
   "execution_count": 40,
   "id": "619f1536",
   "metadata": {},
   "outputs": [],
   "source": [
    "Depression_rc_2012 = []\n",
    "\n",
    "for comment in depression_comment:\n",
    "    Depression_rc_2012.append([comment['id'], comment['subreddit'], comment['author'], comment['body'], comment['ups'], \\\n",
    "                            comment['downs'], comment['score'], comment['created_utc']])"
   ]
  },
  {
   "cell_type": "code",
   "execution_count": 41,
   "id": "2e67b6cd",
   "metadata": {},
   "outputs": [
    {
     "data": {
      "text/html": [
       "<div>\n",
       "<style scoped>\n",
       "    .dataframe tbody tr th:only-of-type {\n",
       "        vertical-align: middle;\n",
       "    }\n",
       "\n",
       "    .dataframe tbody tr th {\n",
       "        vertical-align: top;\n",
       "    }\n",
       "\n",
       "    .dataframe thead th {\n",
       "        text-align: right;\n",
       "    }\n",
       "</style>\n",
       "<table border=\"1\" class=\"dataframe\">\n",
       "  <thead>\n",
       "    <tr style=\"text-align: right;\">\n",
       "      <th></th>\n",
       "      <th>id</th>\n",
       "      <th>subreddit</th>\n",
       "      <th>author</th>\n",
       "      <th>comment</th>\n",
       "      <th>ups</th>\n",
       "      <th>downs</th>\n",
       "      <th>score</th>\n",
       "      <th>created_utc</th>\n",
       "    </tr>\n",
       "  </thead>\n",
       "  <tbody>\n",
       "    <tr>\n",
       "      <th>0</th>\n",
       "      <td>c3cu0ni</td>\n",
       "      <td>depression</td>\n",
       "      <td>HYisAwk</td>\n",
       "      <td>Happy New Years to everyone! Will most likely ...</td>\n",
       "      <td>7</td>\n",
       "      <td>0</td>\n",
       "      <td>7</td>\n",
       "      <td>1325376188</td>\n",
       "    </tr>\n",
       "    <tr>\n",
       "      <th>1</th>\n",
       "      <td>c3cu6e5</td>\n",
       "      <td>depression</td>\n",
       "      <td>HYisAwk</td>\n",
       "      <td>Now that you've seen the positive, keep pushin...</td>\n",
       "      <td>1</td>\n",
       "      <td>0</td>\n",
       "      <td>1</td>\n",
       "      <td>1325377405</td>\n",
       "    </tr>\n",
       "    <tr>\n",
       "      <th>2</th>\n",
       "      <td>c3cu8uf</td>\n",
       "      <td>depression</td>\n",
       "      <td>[deleted]</td>\n",
       "      <td>I'm in the same boat. :'(</td>\n",
       "      <td>3</td>\n",
       "      <td>0</td>\n",
       "      <td>3</td>\n",
       "      <td>1325377938</td>\n",
       "    </tr>\n",
       "    <tr>\n",
       "      <th>3</th>\n",
       "      <td>c3cubuq</td>\n",
       "      <td>depression</td>\n",
       "      <td>Ayjayz</td>\n",
       "      <td>Have a few people. Touble is, they don't know ...</td>\n",
       "      <td>2</td>\n",
       "      <td>0</td>\n",
       "      <td>2</td>\n",
       "      <td>1325378579</td>\n",
       "    </tr>\n",
       "    <tr>\n",
       "      <th>4</th>\n",
       "      <td>c3cui4i</td>\n",
       "      <td>depression</td>\n",
       "      <td>counterfe1t</td>\n",
       "      <td>now that you mention it that makes more sense....</td>\n",
       "      <td>1</td>\n",
       "      <td>0</td>\n",
       "      <td>1</td>\n",
       "      <td>1325379968</td>\n",
       "    </tr>\n",
       "    <tr>\n",
       "      <th>...</th>\n",
       "      <td>...</td>\n",
       "      <td>...</td>\n",
       "      <td>...</td>\n",
       "      <td>...</td>\n",
       "      <td>...</td>\n",
       "      <td>...</td>\n",
       "      <td>...</td>\n",
       "      <td>...</td>\n",
       "    </tr>\n",
       "    <tr>\n",
       "      <th>150303</th>\n",
       "      <td>c7ozkxp</td>\n",
       "      <td>depression</td>\n",
       "      <td>leera07</td>\n",
       "      <td>That \"talking to Dad\" one is an excellent pict...</td>\n",
       "      <td>4</td>\n",
       "      <td>0</td>\n",
       "      <td>4</td>\n",
       "      <td>1356997661</td>\n",
       "    </tr>\n",
       "    <tr>\n",
       "      <th>150304</th>\n",
       "      <td>c7ozl6i</td>\n",
       "      <td>depression</td>\n",
       "      <td>onvvideotape</td>\n",
       "      <td>Do as your primary says and ask your psychiatr...</td>\n",
       "      <td>4</td>\n",
       "      <td>0</td>\n",
       "      <td>4</td>\n",
       "      <td>1356997694</td>\n",
       "    </tr>\n",
       "    <tr>\n",
       "      <th>150305</th>\n",
       "      <td>c7ozm72</td>\n",
       "      <td>depression</td>\n",
       "      <td>plahplahplah</td>\n",
       "      <td>That was beautifully written and (I think) I c...</td>\n",
       "      <td>7</td>\n",
       "      <td>0</td>\n",
       "      <td>7</td>\n",
       "      <td>1356997822</td>\n",
       "    </tr>\n",
       "    <tr>\n",
       "      <th>150306</th>\n",
       "      <td>c7ozoo2</td>\n",
       "      <td>depression</td>\n",
       "      <td>dorky2</td>\n",
       "      <td>&amp;lt;3</td>\n",
       "      <td>2</td>\n",
       "      <td>0</td>\n",
       "      <td>2</td>\n",
       "      <td>1356998132</td>\n",
       "    </tr>\n",
       "    <tr>\n",
       "      <th>150307</th>\n",
       "      <td>c7ozpmf</td>\n",
       "      <td>depression</td>\n",
       "      <td>Isphera</td>\n",
       "      <td>Absolutly, a true team player - MVP in my (sli...</td>\n",
       "      <td>2</td>\n",
       "      <td>0</td>\n",
       "      <td>2</td>\n",
       "      <td>1356998249</td>\n",
       "    </tr>\n",
       "  </tbody>\n",
       "</table>\n",
       "<p>150308 rows × 8 columns</p>\n",
       "</div>"
      ],
      "text/plain": [
       "             id   subreddit        author  \\\n",
       "0       c3cu0ni  depression       HYisAwk   \n",
       "1       c3cu6e5  depression       HYisAwk   \n",
       "2       c3cu8uf  depression     [deleted]   \n",
       "3       c3cubuq  depression        Ayjayz   \n",
       "4       c3cui4i  depression   counterfe1t   \n",
       "...         ...         ...           ...   \n",
       "150303  c7ozkxp  depression       leera07   \n",
       "150304  c7ozl6i  depression  onvvideotape   \n",
       "150305  c7ozm72  depression  plahplahplah   \n",
       "150306  c7ozoo2  depression        dorky2   \n",
       "150307  c7ozpmf  depression       Isphera   \n",
       "\n",
       "                                                  comment  ups  downs  score  \\\n",
       "0       Happy New Years to everyone! Will most likely ...    7      0      7   \n",
       "1       Now that you've seen the positive, keep pushin...    1      0      1   \n",
       "2                               I'm in the same boat. :'(    3      0      3   \n",
       "3       Have a few people. Touble is, they don't know ...    2      0      2   \n",
       "4       now that you mention it that makes more sense....    1      0      1   \n",
       "...                                                   ...  ...    ...    ...   \n",
       "150303  That \"talking to Dad\" one is an excellent pict...    4      0      4   \n",
       "150304  Do as your primary says and ask your psychiatr...    4      0      4   \n",
       "150305  That was beautifully written and (I think) I c...    7      0      7   \n",
       "150306                                              &lt;3    2      0      2   \n",
       "150307  Absolutly, a true team player - MVP in my (sli...    2      0      2   \n",
       "\n",
       "       created_utc  \n",
       "0       1325376188  \n",
       "1       1325377405  \n",
       "2       1325377938  \n",
       "3       1325378579  \n",
       "4       1325379968  \n",
       "...            ...  \n",
       "150303  1356997661  \n",
       "150304  1356997694  \n",
       "150305  1356997822  \n",
       "150306  1356998132  \n",
       "150307  1356998249  \n",
       "\n",
       "[150308 rows x 8 columns]"
      ]
     },
     "execution_count": 41,
     "metadata": {},
     "output_type": "execute_result"
    }
   ],
   "source": [
    "dep_rc_2012 = pd.DataFrame(Depression_rc_2012, columns=columns)\n",
    "dep_rc_2012"
   ]
  },
  {
   "cell_type": "code",
   "execution_count": 42,
   "id": "8698e7c6",
   "metadata": {},
   "outputs": [],
   "source": [
    "dep_rc_2012.to_csv(os.path.join(save_path, 'dep_rc_2012.csv'), index=None)"
   ]
  },
  {
   "cell_type": "markdown",
   "id": "a7644ce0",
   "metadata": {},
   "source": [
    "### etc. file eda "
   ]
  },
  {
   "cell_type": "code",
   "execution_count": 148,
   "id": "2a9c52dd",
   "metadata": {},
   "outputs": [],
   "source": [
    "file = open(os.path.join(data_path, 'RS_2011-01'), \"r\")\n",
    "\n",
    "rs_2010_01 = file.readlines()"
   ]
  },
  {
   "cell_type": "code",
   "execution_count": 149,
   "id": "d69c3be4",
   "metadata": {},
   "outputs": [],
   "source": [
    "json_201001 = json.loads(rs_2010_01[0])"
   ]
  },
  {
   "cell_type": "code",
   "execution_count": 150,
   "id": "a8a36d18",
   "metadata": {},
   "outputs": [
    {
     "name": "stdout",
     "output_type": "stream",
     "text": [
      "{'approved_by': None,\n",
      " 'author': 'magicks',\n",
      " 'author_flair_css_class': None,\n",
      " 'author_flair_text': None,\n",
      " 'banned_by': None,\n",
      " 'clicked': False,\n",
      " 'created': 1293944394,\n",
      " 'created_utc': 1293944394,\n",
      " 'distinguished': None,\n",
      " 'domain': 'i.imgur.com',\n",
      " 'downs': 0,\n",
      " 'edited': False,\n",
      " 'hidden': False,\n",
      " 'id': 'eut41',\n",
      " 'is_self': False,\n",
      " 'likes': None,\n",
      " 'link_flair_css_class': None,\n",
      " 'link_flair_text': None,\n",
      " 'media': None,\n",
      " 'media_embed': {},\n",
      " 'name': 't3_eut41',\n",
      " 'num_comments': 0,\n",
      " 'num_reports': None,\n",
      " 'over_18': True,\n",
      " 'permalink': '/r/pics/comments/eut41/last_nights_pocket_full_of_rubbers_nsfw/',\n",
      " 'saved': False,\n",
      " 'score': 1,\n",
      " 'selftext': '',\n",
      " 'selftext_html': None,\n",
      " 'subreddit': 'pics',\n",
      " 'subreddit_id': 't5_2qh0u',\n",
      " 'thumbnail': 'nsfw',\n",
      " 'title': 'Last nights pocket full of rubbers [NSFW]',\n",
      " 'ups': 1,\n",
      " 'url': 'http://i.imgur.com/ksM1N.jpg'}\n"
     ]
    }
   ],
   "source": [
    "pprint(json_201001)"
   ]
  },
  {
   "cell_type": "markdown",
   "id": "15ae5e09",
   "metadata": {},
   "source": [
    "#### Case 1. Cross Post "
   ]
  },
  {
   "cell_type": "code",
   "execution_count": 21,
   "id": "1602074a",
   "metadata": {},
   "outputs": [],
   "source": [
    "etc_case1 = []\n",
    "\n",
    "for content in rs_2010_01:\n",
    "    json_file = json.loads(content)\n",
    "    if json_file['subreddit'] == 'depression' and 'cross post' in json_file['title']:\n",
    "        etc_case1.append(json_file)"
   ]
  },
  {
   "cell_type": "code",
   "execution_count": 40,
   "id": "b6db62d5",
   "metadata": {},
   "outputs": [],
   "source": [
    "etc_case1_df= []\n",
    "\n",
    "for post in etc_case1:\n",
    "    etc_case1_df.append([post['title'], post['selftext']])"
   ]
  },
  {
   "cell_type": "code",
   "execution_count": 72,
   "id": "868653b3",
   "metadata": {},
   "outputs": [],
   "source": [
    "etc_col1 = ['title', 'context']"
   ]
  },
  {
   "cell_type": "code",
   "execution_count": 47,
   "id": "30981b30",
   "metadata": {},
   "outputs": [
    {
     "data": {
      "text/plain": [
       "['',\n",
       " 'I thought it was rather refreshing.  [See what you think](http://www.reddit.com/r/Health/comments/anli7/you_are_weird_and_it_is_ok/).']"
      ]
     },
     "execution_count": 47,
     "metadata": {},
     "output_type": "execute_result"
    }
   ],
   "source": [
    "etc_case1_df = pd.DataFrame(etc_case1_df, columns=etc_col1)\n",
    "etc_case1_df.context.unique().tolist()"
   ]
  },
  {
   "cell_type": "code",
   "execution_count": 34,
   "id": "5ca2d31e",
   "metadata": {},
   "outputs": [
    {
     "data": {
      "text/plain": [
       "'I thought it was rather refreshing.  [See what you think](http://www.reddit.com/r/Health/comments/anli7/you_are_weird_and_it_is_ok/).'"
      ]
     },
     "execution_count": 34,
     "metadata": {},
     "output_type": "execute_result"
    }
   ],
   "source": [
    "etc_cas.context[1]"
   ]
  },
  {
   "cell_type": "markdown",
   "id": "83badd55",
   "metadata": {},
   "source": [
    "#### Case 2. selftext == ''"
   ]
  },
  {
   "cell_type": "code",
   "execution_count": 56,
   "id": "64cf1b07",
   "metadata": {},
   "outputs": [],
   "source": [
    "etc_case2 = []\n",
    "\n",
    "for content in rs_2010_01:\n",
    "    json_file = json.loads(content)\n",
    "    if json_file['subreddit'] == 'depression' and json_file['selftext'] == '':\n",
    "        etc_case2.append(json_file)"
   ]
  },
  {
   "cell_type": "code",
   "execution_count": 63,
   "id": "dbd5fb69",
   "metadata": {},
   "outputs": [],
   "source": [
    "etc_col2 = ['title', 'context', 'url']"
   ]
  },
  {
   "cell_type": "code",
   "execution_count": 64,
   "id": "3ad34039",
   "metadata": {},
   "outputs": [],
   "source": [
    "etc_case2_df= []\n",
    "\n",
    "for post in etc_case2:\n",
    "    etc_case2_df.append([post['title'], post['selftext'], post['url']])"
   ]
  },
  {
   "cell_type": "code",
   "execution_count": 68,
   "id": "156458af",
   "metadata": {},
   "outputs": [
    {
     "data": {
      "text/html": [
       "<div>\n",
       "<style scoped>\n",
       "    .dataframe tbody tr th:only-of-type {\n",
       "        vertical-align: middle;\n",
       "    }\n",
       "\n",
       "    .dataframe tbody tr th {\n",
       "        vertical-align: top;\n",
       "    }\n",
       "\n",
       "    .dataframe thead th {\n",
       "        text-align: right;\n",
       "    }\n",
       "</style>\n",
       "<table border=\"1\" class=\"dataframe\">\n",
       "  <thead>\n",
       "    <tr style=\"text-align: right;\">\n",
       "      <th></th>\n",
       "      <th>title</th>\n",
       "      <th>context</th>\n",
       "      <th>url</th>\n",
       "    </tr>\n",
       "  </thead>\n",
       "  <tbody>\n",
       "    <tr>\n",
       "      <th>0</th>\n",
       "      <td>cross post from askreddit: i think i might be ...</td>\n",
       "      <td></td>\n",
       "      <td>http://www.reddit.com/r/AskReddit/comments/akg...</td>\n",
       "    </tr>\n",
       "    <tr>\n",
       "      <th>1</th>\n",
       "      <td>I'm trying to cope with depression by creating...</td>\n",
       "      <td></td>\n",
       "      <td>http://ymaudio.blogspot.com/2010/01/jan-2.html</td>\n",
       "    </tr>\n",
       "    <tr>\n",
       "      <th>2</th>\n",
       "      <td>Depression: To Hell and Back</td>\n",
       "      <td></td>\n",
       "      <td>http://www.threeminutetherapy.com/chapter7.html</td>\n",
       "    </tr>\n",
       "    <tr>\n",
       "      <th>3</th>\n",
       "      <td>Wellbutrin has failed me.  Dizzy, headache, tw...</td>\n",
       "      <td></td>\n",
       "      <td>https://www.reddit.com/r/depression/comments/a...</td>\n",
       "    </tr>\n",
       "    <tr>\n",
       "      <th>4</th>\n",
       "      <td>7 Steps Out Of Addiction</td>\n",
       "      <td></td>\n",
       "      <td>http://www.huffingtonpost.com/stanton-peele/20...</td>\n",
       "    </tr>\n",
       "  </tbody>\n",
       "</table>\n",
       "</div>"
      ],
      "text/plain": [
       "                                               title context  \\\n",
       "0  cross post from askreddit: i think i might be ...           \n",
       "1  I'm trying to cope with depression by creating...           \n",
       "2                       Depression: To Hell and Back           \n",
       "3  Wellbutrin has failed me.  Dizzy, headache, tw...           \n",
       "4                           7 Steps Out Of Addiction           \n",
       "\n",
       "                                                 url  \n",
       "0  http://www.reddit.com/r/AskReddit/comments/akg...  \n",
       "1     http://ymaudio.blogspot.com/2010/01/jan-2.html  \n",
       "2    http://www.threeminutetherapy.com/chapter7.html  \n",
       "3  https://www.reddit.com/r/depression/comments/a...  \n",
       "4  http://www.huffingtonpost.com/stanton-peele/20...  "
      ]
     },
     "execution_count": 68,
     "metadata": {},
     "output_type": "execute_result"
    }
   ],
   "source": [
    "etc_case2_df = pd.DataFrame(etc_case2_df, columns=etc_col2)\n",
    "etc_case2_df.head()"
   ]
  },
  {
   "cell_type": "code",
   "execution_count": 67,
   "id": "80fd3765",
   "metadata": {},
   "outputs": [
    {
     "data": {
      "text/plain": [
       "'http://www.reddit.com/r/AskReddit/comments/akgm1/i_think_i_might_be_depressed/'"
      ]
     },
     "execution_count": 67,
     "metadata": {},
     "output_type": "execute_result"
    }
   ],
   "source": [
    "etc_case2_df.url[0]"
   ]
  },
  {
   "cell_type": "markdown",
   "id": "ff1fd65a",
   "metadata": {},
   "source": [
    "#### Case 3. 'http' in selftext"
   ]
  },
  {
   "cell_type": "code",
   "execution_count": 69,
   "id": "03a555b2",
   "metadata": {},
   "outputs": [],
   "source": [
    "etc_case3 = []\n",
    "\n",
    "for content in rs_2010_01:\n",
    "    json_file = json.loads(content)\n",
    "    if json_file['subreddit'] == 'depression' and 'http' in json_file['selftext']:\n",
    "        etc_case3.append(json_file)"
   ]
  },
  {
   "cell_type": "code",
   "execution_count": 70,
   "id": "2e4f4f6a",
   "metadata": {},
   "outputs": [],
   "source": [
    "etc_case3_df= []\n",
    "\n",
    "for post in etc_case3:\n",
    "    etc_case3_df.append([post['title'], post['selftext']])"
   ]
  },
  {
   "cell_type": "code",
   "execution_count": 73,
   "id": "043779d6",
   "metadata": {},
   "outputs": [
    {
     "data": {
      "text/html": [
       "<div>\n",
       "<style scoped>\n",
       "    .dataframe tbody tr th:only-of-type {\n",
       "        vertical-align: middle;\n",
       "    }\n",
       "\n",
       "    .dataframe tbody tr th {\n",
       "        vertical-align: top;\n",
       "    }\n",
       "\n",
       "    .dataframe thead th {\n",
       "        text-align: right;\n",
       "    }\n",
       "</style>\n",
       "<table border=\"1\" class=\"dataframe\">\n",
       "  <thead>\n",
       "    <tr style=\"text-align: right;\">\n",
       "      <th></th>\n",
       "      <th>title</th>\n",
       "      <th>context</th>\n",
       "    </tr>\n",
       "  </thead>\n",
       "  <tbody>\n",
       "    <tr>\n",
       "      <th>0</th>\n",
       "      <td>getting help, or why it's so hard</td>\n",
       "      <td>*this is more of a 'you're not alone' post.*\\n...</td>\n",
       "    </tr>\n",
       "    <tr>\n",
       "      <th>1</th>\n",
       "      <td>Lots of people seem to be depressed due to the...</td>\n",
       "      <td>I found myself feeling glum over my job today ...</td>\n",
       "    </tr>\n",
       "    <tr>\n",
       "      <th>2</th>\n",
       "      <td>Anyone take medication for anxiety? Need some ...</td>\n",
       "      <td>So I'm a 24 year old male and I used to take p...</td>\n",
       "    </tr>\n",
       "    <tr>\n",
       "      <th>3</th>\n",
       "      <td>A cross post from /r/health</td>\n",
       "      <td>I thought it was rather refreshing.  [See what...</td>\n",
       "    </tr>\n",
       "    <tr>\n",
       "      <th>4</th>\n",
       "      <td>Anthony De Mello - his videos helped extremely</td>\n",
       "      <td>I highly recommend watching videos of Anthony ...</td>\n",
       "    </tr>\n",
       "  </tbody>\n",
       "</table>\n",
       "</div>"
      ],
      "text/plain": [
       "                                               title  \\\n",
       "0                  getting help, or why it's so hard   \n",
       "1  Lots of people seem to be depressed due to the...   \n",
       "2  Anyone take medication for anxiety? Need some ...   \n",
       "3                        A cross post from /r/health   \n",
       "4     Anthony De Mello - his videos helped extremely   \n",
       "\n",
       "                                             context  \n",
       "0  *this is more of a 'you're not alone' post.*\\n...  \n",
       "1  I found myself feeling glum over my job today ...  \n",
       "2  So I'm a 24 year old male and I used to take p...  \n",
       "3  I thought it was rather refreshing.  [See what...  \n",
       "4  I highly recommend watching videos of Anthony ...  "
      ]
     },
     "execution_count": 73,
     "metadata": {},
     "output_type": "execute_result"
    }
   ],
   "source": [
    "etc_case3_df = pd.DataFrame(etc_case3_df, columns=etc_col1)\n",
    "etc_case3_df.head()"
   ]
  },
  {
   "cell_type": "code",
   "execution_count": 76,
   "id": "2071f1da",
   "metadata": {},
   "outputs": [
    {
     "data": {
      "text/plain": [
       "'I found myself feeling glum over my job today (yes I know, it could be worse and I could be out of one) and found this.  I found the comparison for what you should expect from a spouse with what you should expect from a job interesting.  It made me feel a little bit better, so hopefully it will help some of you feel just a little bit better.\\n\\nEDIT:  Well I learned something today about how posting links works.  I was so excited to submit my second link. : P  Thank you, Aurorae.  : D\\n\\n[A job does not give life meaning](http://blog.penelopetrunk.com/2006/03/06/a-job-does-not-give-life-meaning/)'"
      ]
     },
     "execution_count": 76,
     "metadata": {},
     "output_type": "execute_result"
    }
   ],
   "source": [
    "etc_case3_df.context.unique().tolist()[1]"
   ]
  },
  {
   "cell_type": "code",
   "execution_count": 85,
   "id": "bdffecc7",
   "metadata": {
    "scrolled": false
   },
   "outputs": [],
   "source": [
    "file2 = open(os.path.join(data_path, 'RC_2010-01'), \"r\")\n",
    "\n",
    "rc_2010_01 = file2.readlines()"
   ]
  },
  {
   "cell_type": "code",
   "execution_count": 86,
   "id": "23ba4d00",
   "metadata": {},
   "outputs": [],
   "source": [
    "json_file = json.loads(rc_2010_01[2])"
   ]
  },
  {
   "cell_type": "code",
   "execution_count": 90,
   "id": "895a5abe",
   "metadata": {
    "scrolled": true
   },
   "outputs": [
    {
     "name": "stdout",
     "output_type": "stream",
     "text": [
      "{'archived': True,\n",
      " 'author': 'uninhibited',\n",
      " 'author_flair_css_class': None,\n",
      " 'author_flair_text': None,\n",
      " 'body': 'Ok so people can donate charity, but how does people playing a video '\n",
      "         'game come into the equation?',\n",
      " 'controversiality': 0,\n",
      " 'created_utc': '1262304001',\n",
      " 'distinguished': None,\n",
      " 'downs': 0,\n",
      " 'edited': False,\n",
      " 'gilded': 0,\n",
      " 'id': 'c0i12v5',\n",
      " 'link_id': 't3_akcaj',\n",
      " 'name': 't1_c0i12v5',\n",
      " 'parent_id': 't3_akcaj',\n",
      " 'retrieved_on': 1426171563,\n",
      " 'score': 1,\n",
      " 'score_hidden': False,\n",
      " 'subreddit': 'gaming',\n",
      " 'subreddit_id': 't5_2qh03',\n",
      " 'ups': 1}\n"
     ]
    }
   ],
   "source": [
    "pprint(json_file)"
   ]
  },
  {
   "cell_type": "code",
   "execution_count": null,
   "id": "52778628",
   "metadata": {},
   "outputs": [],
   "source": []
  }
 ],
 "metadata": {
  "kernelspec": {
   "display_name": "Python 3 (ipykernel)",
   "language": "python",
   "name": "python3"
  },
  "language_info": {
   "codemirror_mode": {
    "name": "ipython",
    "version": 3
   },
   "file_extension": ".py",
   "mimetype": "text/x-python",
   "name": "python",
   "nbconvert_exporter": "python",
   "pygments_lexer": "ipython3",
   "version": "3.9.13"
  }
 },
 "nbformat": 4,
 "nbformat_minor": 5
}
